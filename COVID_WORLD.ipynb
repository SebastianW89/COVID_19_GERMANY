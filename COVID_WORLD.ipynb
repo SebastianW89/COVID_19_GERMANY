{
 "cells": [
  {
   "cell_type": "markdown",
   "metadata": {},
   "source": [
    "Source: http://www.healthdata.org/covid/data-downloads\n",
    "\n",
    "Vaccinations of Germany: https://www.rki.de/DE/Content/InfAZ/N/Neuartiges_Coronavirus/Daten/Impfquoten-Tab.html"
   ]
  },
  {
   "cell_type": "markdown",
   "metadata": {},
   "source": [
    "Some important KPIs https://www.arcgis.com/apps/opsdashboard/index.html#/bda7594740fd40299423467b48e9ecf6\n"
   ]
  },
  {
   "cell_type": "code",
   "execution_count": 1,
   "metadata": {},
   "outputs": [],
   "source": [
    "import pandas as pd\n",
    "import numpy as np\n",
    "import matplotlib.pyplot as plt\n",
    "%matplotlib inline\n",
    "import seaborn as sns\n",
    "import requests\n",
    "from bs4 import BeautifulSoup\n",
    "import datetime\n",
    "import re\n",
    "\n",
    "\n",
    "\n",
    "pd.set_option(\"display.max.rows\",None)"
   ]
  },
  {
   "cell_type": "code",
   "execution_count": 2,
   "metadata": {},
   "outputs": [],
   "source": [
    "path='D:/DataSets/Corona/World'\n",
    "\n",
    "df_best_masks_hosp=pd.read_csv(path+str('/best_masks_hospitalization_all_locs.csv'),low_memory=False)\n",
    "df_new_variant=pd.read_csv(path+str('/new_variant_hospitalization_all_locs.csv'),low_memory=False)\n",
    "df_reference_hospitalization=pd.read_csv(path+str('/reference_hospitalization_all_locs.csv'),low_memory=False)\n",
    "df_summary=pd.read_csv(path+str('/Summary_stats_all_locs.csv'),low_memory=False)\n",
    "df_worse_hospitalization=pd.read_csv(path+str('/worse_hospitalization_all_locs.csv'),low_memory=False)"
   ]
  },
  {
   "cell_type": "markdown",
   "metadata": {},
   "source": [
    "Here Comes some  functions to use in the report"
   ]
  },
  {
   "cell_type": "code",
   "execution_count": 3,
   "metadata": {},
   "outputs": [],
   "source": [
    "list_of_country=[]\n",
    "for i in df_best_masks_hosp['location_name'].unique():\n",
    "    list_of_country.append(i)\n",
    "#print(sorted(list_of_country))"
   ]
  },
  {
   "cell_type": "code",
   "execution_count": 4,
   "metadata": {},
   "outputs": [],
   "source": [
    "def lineplot_func(data,x,y,title=None,hue=None):\n",
    "    \n",
    "    if data[x].dtypes=='object':\n",
    "        x=pd.to_datetime(data[x])\n",
    "    \n",
    "    fig,ax=plt.subplots(figsize=(10,5))\n",
    "    fig=sns.lineplot(data=data\n",
    "                     ,x=x\n",
    "                     ,y=y\n",
    "                     ,estimator=sum\n",
    "                     ,ci=None\n",
    "                     ,hue=hue)\n",
    "    plt.title(title)"
   ]
  },
  {
   "cell_type": "code",
   "execution_count": 5,
   "metadata": {},
   "outputs": [],
   "source": [
    "#the .copy() is due to the SettingWithCopyWarning https://www.youtube.com/watch?v=4R4WsDJ-KVc \n",
    "df_ref_hos_ger=df_reference_hospitalization.loc[df_reference_hospitalization['location_name']=='Germany'].copy()\n",
    "df_ref_hos_ger['date']=pd.to_datetime(df_ref_hos_ger['date'])\n",
    "#df_ref_hos_ger.loc[df_ref_hos_ger['date']]=pd.to_datetime(df_ref_hos_ger['date'])"
   ]
  },
  {
   "cell_type": "markdown",
   "metadata": {},
   "source": [
    "# Reference hospitalization"
   ]
  },
  {
   "cell_type": "code",
   "execution_count": 6,
   "metadata": {},
   "outputs": [
    {
     "name": "stdout",
     "output_type": "stream",
     "text": [
      "(514, 73)\n"
     ]
    },
    {
     "data": {
      "text/plain": [
       "['mobility_data_type',\n",
       " 'mobility_composite',\n",
       " 'confirmed_infections_data_type',\n",
       " 'confirmed_infections',\n",
       " 'confirmed_infections_p100k_rate',\n",
       " 'seroprev_mean',\n",
       " 'seroprev_upper',\n",
       " 'seroprev_lower',\n",
       " 'seroprev_data_type']"
      ]
     },
     "execution_count": 6,
     "metadata": {},
     "output_type": "execute_result"
    }
   ],
   "source": [
    "print(df_ref_hos_ger.shape)\n",
    "df_ref_hos_ger.columns[df_ref_hos_ger.isna().any()].tolist()"
   ]
  },
  {
   "cell_type": "code",
   "execution_count": 7,
   "metadata": {},
   "outputs": [
    {
     "data": {
      "text/plain": [
       "<AxesSubplot:>"
      ]
     },
     "execution_count": 7,
     "metadata": {},
     "output_type": "execute_result"
    },
    {
     "data": {
      "image/png": "[encoded data removed]",
      "text/plain": [
       "<Figure size 432x288 with 1 Axes>"
      ]
     },
     "metadata": {
      "needs_background": "light"
     },
     "output_type": "display_data"
    }
   ],
   "source": [
    "null_values=df_ref_hos_ger.isna().sum()\n",
    "null_values=null_values[null_values>0]\n",
    "null_values.plot(kind='bar')"
   ]
  },
  {
   "cell_type": "code",
   "execution_count": 8,
   "metadata": {},
   "outputs": [
    {
     "name": "stdout",
     "output_type": "stream",
     "text": [
      "mobility_data_type                   4\n",
      "mobility_composite                   4\n",
      "confirmed_infections_data_type     108\n",
      "confirmed_infections               108\n",
      "confirmed_infections_p100k_rate    108\n",
      "seroprev_mean                       78\n",
      "seroprev_upper                      78\n",
      "seroprev_lower                      78\n",
      "seroprev_data_type                  78\n",
      "dtype: int64\n",
      "int64\n"
     ]
    }
   ],
   "source": [
    "print(null_values)\n",
    "print(null_values.dtypes)"
   ]
  },
  {
   "cell_type": "markdown",
   "metadata": {},
   "source": [
    "There are only a few columns with NaNs. These columns pretend to two different types: mobility and confiremt infections.\n",
    "The sum of NaN is among each column the same (for mobility 4 and for infections 120).\n",
    "As we´ll need the infections later, we have to handle these missing quantitative values in the Dataframe.\n"
   ]
  },
  {
   "cell_type": "code",
   "execution_count": 9,
   "metadata": {},
   "outputs": [],
   "source": [
    "quantitative=[i for i in df_ref_hos_ger.columns if df_ref_hos_ger[i].dtypes!='object']\n",
    "qualitative=[i for i in df_ref_hos_ger.columns if df_ref_hos_ger[i].dtypes =='object']"
   ]
  },
  {
   "cell_type": "code",
   "execution_count": 10,
   "metadata": {},
   "outputs": [
    {
     "data": {
      "text/plain": [
       "['mobility_composite',\n",
       " 'confirmed_infections',\n",
       " 'confirmed_infections_p100k_rate',\n",
       " 'seroprev_mean',\n",
       " 'seroprev_upper',\n",
       " 'seroprev_lower']"
      ]
     },
     "execution_count": 10,
     "metadata": {},
     "output_type": "execute_result"
    }
   ],
   "source": [
    "#df_quan=df_ref_hos_ger[quantitative]\n",
    "df_ref_hos_ger[quantitative].columns[df_ref_hos_ger[quantitative].isna().any()].tolist()"
   ]
  },
  {
   "cell_type": "code",
   "execution_count": 11,
   "metadata": {},
   "outputs": [
    {
     "data": {
      "text/plain": [
       "['mobility_data_type', 'confirmed_infections_data_type', 'seroprev_data_type']"
      ]
     },
     "execution_count": 11,
     "metadata": {},
     "output_type": "execute_result"
    }
   ],
   "source": [
    "df_ref_hos_ger[qualitative].columns[df_ref_hos_ger[qualitative].isna().any()].tolist()"
   ]
  },
  {
   "cell_type": "code",
   "execution_count": 12,
   "metadata": {},
   "outputs": [
    {
     "name": "stdout",
     "output_type": "stream",
     "text": [
      "<class 'pandas.core.frame.DataFrame'>\n",
      "Int64Index: 514 entries, 25367 to 25880\n",
      "Data columns (total 8 columns):\n",
      " #   Column                          Non-Null Count  Dtype \n",
      "---  ------                          --------------  ----- \n",
      " 0   location_name                   514 non-null    object\n",
      " 1   hosp_data_type                  514 non-null    object\n",
      " 2   deaths_data_type                514 non-null    object\n",
      " 3   mobility_data_type              510 non-null    object\n",
      " 4   total_tests_data_type           514 non-null    object\n",
      " 5   confirmed_infections_data_type  406 non-null    object\n",
      " 6   est_infections_data_type        514 non-null    object\n",
      " 7   seroprev_data_type              436 non-null    object\n",
      "dtypes: object(8)\n",
      "memory usage: 36.1+ KB\n"
     ]
    }
   ],
   "source": [
    "df_ref_hos_ger[qualitative].info()"
   ]
  },
  {
   "cell_type": "code",
   "execution_count": 13,
   "metadata": {},
   "outputs": [],
   "source": [
    "for c in qualitative:\n",
    "    df_ref_hos_ger[c]=df_ref_hos_ger[c].astype('category')\n",
    "       \n",
    "   \n",
    "    if df_ref_hos_ger[c].isnull().any():      \n",
    "        df_ref_hos_ger[c] = df_ref_hos_ger[c].cat.add_categories(['MISSING'])  \n",
    "        df_ref_hos_ger[c] = df_ref_hos_ger[c].fillna('MISSING')                  "
   ]
  },
  {
   "cell_type": "code",
   "execution_count": 14,
   "metadata": {},
   "outputs": [
    {
     "data": {
      "text/plain": [
       "location_name                     False\n",
       "hosp_data_type                    False\n",
       "deaths_data_type                  False\n",
       "mobility_data_type                False\n",
       "total_tests_data_type             False\n",
       "confirmed_infections_data_type    False\n",
       "est_infections_data_type          False\n",
       "seroprev_data_type                False\n",
       "dtype: bool"
      ]
     },
     "execution_count": 14,
     "metadata": {},
     "output_type": "execute_result"
    }
   ],
   "source": [
    "df_ref_hos_ger[qualitative].isna().any()"
   ]
  },
  {
   "cell_type": "code",
   "execution_count": 15,
   "metadata": {},
   "outputs": [
    {
     "name": "stdout",
     "output_type": "stream",
     "text": [
      "<class 'pandas.core.frame.DataFrame'>\n",
      "Int64Index: 514 entries, 25367 to 25880\n",
      "Data columns (total 8 columns):\n",
      " #   Column                          Non-Null Count  Dtype   \n",
      "---  ------                          --------------  -----   \n",
      " 0   location_name                   514 non-null    category\n",
      " 1   hosp_data_type                  514 non-null    category\n",
      " 2   deaths_data_type                514 non-null    category\n",
      " 3   mobility_data_type              514 non-null    category\n",
      " 4   total_tests_data_type           514 non-null    category\n",
      " 5   confirmed_infections_data_type  514 non-null    category\n",
      " 6   est_infections_data_type        514 non-null    category\n",
      " 7   seroprev_data_type              514 non-null    category\n",
      "dtypes: category(8)\n",
      "memory usage: 9.0 KB\n"
     ]
    }
   ],
   "source": [
    "df_ref_hos_ger[qualitative].info()"
   ]
  },
  {
   "cell_type": "code",
   "execution_count": 16,
   "metadata": {},
   "outputs": [],
   "source": [
    "for col in quantitative:\n",
    "    if df_ref_hos_ger[col].isna().any():\n",
    "        df_ref_hos_ger[col]=df_ref_hos_ger[col].fillna(0)\n"
   ]
  },
  {
   "cell_type": "code",
   "execution_count": 17,
   "metadata": {},
   "outputs": [
    {
     "data": {
      "text/plain": [
       "[]"
      ]
     },
     "execution_count": 17,
     "metadata": {},
     "output_type": "execute_result"
    }
   ],
   "source": [
    "  df_ref_hos_ger[quantitative].columns[df_ref_hos_ger[quantitative].isna().any()].tolist()"
   ]
  },
  {
   "cell_type": "markdown",
   "metadata": {},
   "source": [
    "As Colums I need for the deaths:\n",
    "- date\n",
    "- deaths_data_type\n",
    "- deaths_upper\n",
    "\n",
    "I need also check if the deaths_data_type have any proyection into it, because I only want the observed data"
   ]
  },
  {
   "cell_type": "code",
   "execution_count": 18,
   "metadata": {},
   "outputs": [
    {
     "data": {
      "text/plain": [
       "observed     403\n",
       "projected    111\n",
       "Name: deaths_data_type, dtype: int64"
      ]
     },
     "execution_count": 18,
     "metadata": {},
     "output_type": "execute_result"
    }
   ],
   "source": [
    "df_ref_hos_ger['deaths_data_type'].value_counts()"
   ]
  },
  {
   "cell_type": "markdown",
   "metadata": {},
   "source": [
    "As it has projected data, I will filter it more deeply to have only the observed data"
   ]
  },
  {
   "cell_type": "code",
   "execution_count": 19,
   "metadata": {},
   "outputs": [
    {
     "name": "stdout",
     "output_type": "stream",
     "text": [
      "observed     403\n",
      "projected      0\n",
      "Name: deaths_data_type, dtype: int64\n",
      "The lates date is: 12 March 2021\n"
     ]
    }
   ],
   "source": [
    "df_ref_hos_ger_obs=df_ref_hos_ger[df_ref_hos_ger['deaths_data_type']=='observed']\n",
    "print(df_ref_hos_ger_obs['deaths_data_type'].value_counts())\n",
    "max_date=df_ref_hos_ger_obs['date'].max()\n",
    "print(f'The lates date is: {max_date:%d %B %Y}')"
   ]
  },
  {
   "cell_type": "markdown",
   "metadata": {},
   "source": [
    "As it the DataFrame only have observed data, we can call the function to draw a lineplot"
   ]
  },
  {
   "cell_type": "code",
   "execution_count": 20,
   "metadata": {
    "scrolled": true
   },
   "outputs": [
    {
     "data": {
      "image/png": "[encoded data removed]",
      "text/plain": [
       "<Figure size 720x360 with 1 Axes>"
      ]
     },
     "metadata": {
      "needs_background": "light"
     },
     "output_type": "display_data"
    }
   ],
   "source": [
    "lineplot_func(data=df_ref_hos_ger_obs,x='date',y='deaths_upper',title='Deaths Germany')"
   ]
  },
  {
   "cell_type": "markdown",
   "metadata": {},
   "source": [
    "Columns I need for the hospitalization:\n",
    "- hosp_data_type\n",
    "- allbed_upper -> Beds for Covid needed per day\n",
    "- ICUbed_upper -> Beds for intensive care of Covid needed per day (ICU=Intensive Care Unit)\n",
    "- InvVen_upper -> Upper uncertainty bound if invasive ventilation needed by day\n",
    "- total_tests\n",
    "- Confirmed_infections"
   ]
  },
  {
   "cell_type": "code",
   "execution_count": 21,
   "metadata": {},
   "outputs": [
    {
     "data": {
      "image/png": "[encoded data removed]",
      "text/plain": [
       "<Figure size 432x648 with 6 Axes>"
      ]
     },
     "metadata": {
      "needs_background": "light"
     },
     "output_type": "display_data"
    }
   ],
   "source": [
    "#Using melt for a tidy DataFrame which is more usable for FacetGrid\n",
    "\n",
    "f=pd.melt(df_ref_hos_ger_obs\n",
    "          ,value_vars=['allbed_upper'\n",
    "                       ,'ICUbed_upper'\n",
    "                       ,'InvVen_upper'\n",
    "                       ,'total_tests'\n",
    "                       ,'confirmed_infections'\n",
    "                       ,'deaths_upper'\n",
    "                      ]\n",
    "          ,id_vars='date'\n",
    "         )\n",
    "\n",
    "\n",
    "\n",
    "#Plot the FacetGrid\n",
    "g=sns.FacetGrid(f,col='variable',sharex=False,sharey=False,col_wrap=2)\n",
    "g=g.map(sns.lineplot,'date','value')\n",
    "\n",
    "#Change the title of the Subplots\n",
    "axes=g.axes.flatten()\n",
    "axes[0].set_title('Bed usage per day')\n",
    "axes[1].set_title('Intesive care units per day')\n",
    "axes[2].set_title('Invasive ventilation per day')\n",
    "axes[3].set_title('Total tests per day')\n",
    "axes[4].set_title('Confirmed infections per day')\n",
    "axes[5].set_title('Total deaths per day')\n",
    "\n",
    "#Make some annotation for better readibility\n",
    "###ATENTION! Don´t repeat yourself. Try to do this in a loop.\n",
    "#And further you can put that loop into a funcion to use it later on other data\n",
    "axes[4].annotate('Last score: {}'.format(np.around(df_ref_hos_ger_obs['confirmed_infections'].iloc[-1])),\n",
    "                 xy=[\n",
    "                     df_ref_hos_ger_obs['date'].iloc[-1],\n",
    "                     np.around(df_ref_hos_ger_obs['confirmed_infections'].iloc[-1])\n",
    "                     ],\n",
    "                arrowprops={'arrowstyle':'->','color':'red'},\n",
    "                xytext=('2020-01-30',df_ref_hos_ger_obs['confirmed_infections'].iloc[-1])\n",
    "                )\n",
    "\n",
    "axes[5].annotate('Last score: {}'.format(np.around(df_ref_hos_ger_obs['deaths_upper'].iloc[-1])),\n",
    "                 xy=[\n",
    "                     df_ref_hos_ger_obs['date'].iloc[-1],\n",
    "                     np.around(df_ref_hos_ger_obs['deaths_upper'].iloc[-1])\n",
    "                     ],\n",
    "                arrowprops={'arrowstyle':'->','color':'red'},\n",
    "                xytext=('2020-01-30',df_ref_hos_ger_obs['deaths_upper'].iloc[-1])\n",
    "                )\n",
    "\n",
    "\n",
    "#Define the peaks of eacht plot\n",
    "\n",
    "axes[4].annotate('Peak: {}'.format(np.around(df_ref_hos_ger_obs['confirmed_infections'].max())),\n",
    "                 xy=[df_ref_hos_ger_obs['date'][df_ref_hos_ger_obs['confirmed_infections']==df_ref_hos_ger_obs['confirmed_infections'].max()],\n",
    "                 np.around(df_ref_hos_ger_obs['confirmed_infections'].max())  \n",
    "                 ],\n",
    "                arrowprops={'arrowstyle':'->','color':'purple'},\n",
    "                xytext=('2020-01-30',df_ref_hos_ger_obs['confirmed_infections'].max())\n",
    "                )\n",
    "\n",
    "axes[5].annotate('Peak: {}'.format(np.around(df_ref_hos_ger_obs['deaths_upper'].max())),\n",
    "                 xy=[df_ref_hos_ger_obs['date'][df_ref_hos_ger_obs['deaths_upper']==df_ref_hos_ger_obs['deaths_upper'].max()],\n",
    "                     np.around(df_ref_hos_ger_obs['deaths_upper'].max())\n",
    "                     ],\n",
    "                arrowprops={'arrowstyle':'->','color':'purple'},\n",
    "                xytext=('2020-01-30',df_ref_hos_ger_obs['deaths_upper'].max())\n",
    "                )\n",
    "\n",
    "\n",
    "#Change the overall Title and also the x and y axis title on each Subplot. Adjust also the width and the high\n",
    "g.fig.suptitle('Hospitals Workload from {}'.format(max(df_ref_hos_ger_obs['date'])),y=1.07)\n",
    "g.set(xlabel='date',ylabel='quantity')\n",
    "plt.subplots_adjust(hspace=1, wspace=0.4)\n",
    "\n",
    "\n",
    "#Rotate the x-axis by 90 degree\n",
    "for ax in g.axes.flat:\n",
    "    for label in ax.get_xticklabels():\n",
    "        label.set_rotation(90)"
   ]
  },
  {
   "cell_type": "markdown",
   "metadata": {},
   "source": [
    "To Improve: Don't repeat yourself, the x-axis on the peak annotation is worng at maximum, becuase the date on the x axis is there where the y axis is max"
   ]
  },
  {
   "cell_type": "markdown",
   "metadata": {},
   "source": [
    "Number of positive & negative cases per day ----- This would have helped you to compare & find correlation between positive Diagnosed and deaths/recovered. it's called \"Fatality ratio\" -  It is the ratio of total dead to the total positive case (per day or week) \n",
    "\n",
    "\n",
    "\"Hospitalization ratio\" -It is the ratio of total hospitalized (all cases admitted to hospital) to the total positive cases. \n",
    "\n",
    "\n",
    "\"Positive case ratio\"- It is the ratio of total positive cases to the total number of tests (number of patients appeared for covid test every day/week) \n",
    "\n",
    "Date of hospitalization & recovered/discharged date - this would have helped in finding/analysing the number of days taken by a patient to recover from covid infection - questions like - which gender has speedy recovery capability ? - what age group patient has speedy recovery capability?\n"
   ]
  },
  {
   "cell_type": "markdown",
   "metadata": {},
   "source": [
    "## Vaccanations\n"
   ]
  },
  {
   "cell_type": "code",
   "execution_count": 22,
   "metadata": {},
   "outputs": [],
   "source": [
    "vac=pd.read_excel(path+str('/Vaccanations.xlsx'),sheet_name=3)\n",
    "vac_headers=['Date','FirstVaccanations','SecoundVaccanations','TotalVaccanations']\n",
    "vac.drop(vac.tail(3).index,inplace=True)\n",
    "vac.columns=vac_headers"
   ]
  },
  {
   "cell_type": "code",
   "execution_count": 23,
   "metadata": {},
   "outputs": [],
   "source": [
    "vac['Date']=pd.to_datetime(vac['Date'])\n",
    "vac.set_index('Date',inplace=True)\n"
   ]
  },
  {
   "cell_type": "code",
   "execution_count": 24,
   "metadata": {},
   "outputs": [],
   "source": [
    "'''\n",
    "In the original Data source are NaT (like-->  \\''')\n",
    "To get rid of it I have to use pd.notnull(). Maby thes also works with Nans, if date is indexed?\n",
    "'''\n",
    "vac=vac[pd.notnull(vac.index)]"
   ]
  },
  {
   "cell_type": "code",
   "execution_count": 25,
   "metadata": {},
   "outputs": [
    {
     "name": "stdout",
     "output_type": "stream",
     "text": [
      "<class 'pandas.core.frame.DataFrame'>\n",
      "DatetimeIndex: 81 entries, 2020-12-27 to 2021-03-17\n",
      "Data columns (total 3 columns):\n",
      " #   Column               Non-Null Count  Dtype  \n",
      "---  ------               --------------  -----  \n",
      " 0   FirstVaccanations    81 non-null     float64\n",
      " 1   SecoundVaccanations  81 non-null     float64\n",
      " 2   TotalVaccanations    81 non-null     float64\n",
      "dtypes: float64(3)\n",
      "memory usage: 2.5 KB\n"
     ]
    }
   ],
   "source": [
    "vac.info()"
   ]
  },
  {
   "cell_type": "code",
   "execution_count": 26,
   "metadata": {},
   "outputs": [],
   "source": [
    "#infections_cum=df_ref_hos_ger_obs[['date','confirmed_infections']].groupby(by=df_ref_hos_ger_obs['date']).agg('cumsum')\n",
    "#infections_cum\n",
    "\n",
    "infecctions_cum=df_ref_hos_ger_obs.set_index('date')\n",
    "\n",
    "infecctions_cum=infecctions_cum['confirmed_infections'].cumsum()\n"
   ]
  },
  {
   "cell_type": "code",
   "execution_count": 27,
   "metadata": {},
   "outputs": [
    {
     "data": {
      "text/plain": [
       "Text(0.5, 1.0, 'Confirmed Infections vs. Vaccanations per day')"
      ]
     },
     "execution_count": 27,
     "metadata": {},
     "output_type": "execute_result"
    },
    {
     "data": {
      "image/png": "[encoded data removed]",
      "text/plain": [
       "<Figure size 1080x720 with 4 Axes>"
      ]
     },
     "metadata": {
      "needs_background": "light"
     },
     "output_type": "display_data"
    }
   ],
   "source": [
    "#create the subplots (2x2)\n",
    "fig,ax=plt.subplots(2,2,figsize=(15,10))\n",
    "fig.suptitle('Overview Infections and Vaccanations',fontsize=16,\n",
    "            fontweight='bold',\n",
    "            color='darkgrey')\n",
    "#Assign subplot 1 of 4\n",
    "ax1=ax[0,0]\n",
    "ax1.plot(df_ref_hos_ger_obs['date'],\n",
    "         df_ref_hos_ger_obs['confirmed_infections'],\n",
    "         color='red'\n",
    "        )\n",
    "\n",
    "ax1.axvspan(datetime.date(2020,1,1),\n",
    "            datetime.date(2020,12,31),\n",
    "            color='grey',alpha=.5\n",
    "           )\n",
    "ax1.text(x=datetime.date(2020,10,15),\n",
    "         y=df_ref_hos_ger_obs['confirmed_infections'].max(),\n",
    "         s='2020',\n",
    "         color='white',\n",
    "         fontsize='xx-large',\n",
    "         fontweight='bold'\n",
    "        )\n",
    "ax1.text(x=datetime.date(2021,1,15),\n",
    "         y=df_ref_hos_ger_obs['confirmed_infections'].max(),\n",
    "         s='2021',\n",
    "         color='orange',\n",
    "         fontsize='xx-large',\n",
    "         fontweight='bold'\n",
    "        )\n",
    "ax1.set_title(label='Confirmed Infections',\n",
    "              fontdict={'fontsize':16,'color':'darkgrey','fontweight':'bold'}\n",
    "             )\n",
    "\n",
    "#Assign subplot 2 of 4\n",
    "ax2=ax[0,1]\n",
    "ax2.plot(infecctions_cum,color='red')\n",
    "ax2.axvspan(datetime.date(2020,1,1),\n",
    "            datetime.date(2020,12,31),\n",
    "            color='grey',\n",
    "            alpha=.5\n",
    "           )\n",
    "\n",
    "ax2.text(x=datetime.date(2020,10,15),\n",
    "         y=infecctions_cum.max(),\n",
    "         s='2020',\n",
    "         color='white',\n",
    "         fontsize='xx-large',\n",
    "         fontweight='bold'\n",
    "        )\n",
    "\n",
    "ax2.text(x=datetime.date(2021,1,15),\n",
    "         y=infecctions_cum.max(),\n",
    "         s='2021',color='orange',\n",
    "         fontsize='xx-large',\n",
    "         fontweight='bold')\n",
    "\n",
    "ax2.set_title(label='Cumulated Infections',\n",
    "              fontdict={'fontsize':16,'color':'darkgrey','fontweight':'bold'}\n",
    "             )\n",
    "\n",
    "#Assign subplot 3 of 4\n",
    "ax3=ax[1,0]\n",
    "ax3.plot(vac.index,\n",
    "         vac['TotalVaccanations'],\n",
    "         color='green'\n",
    "        )\n",
    "\n",
    "ax3.axvspan(datetime.date(2020,1,1),\n",
    "            datetime.date(2020,12,31),\n",
    "            color='grey',\n",
    "            alpha=.5\n",
    "           )\n",
    "\n",
    "ax3.text(x=datetime.date(2020,10,15),\n",
    "         y=vac['TotalVaccanations'].max(),\n",
    "         s='2020',\n",
    "         color='white',\n",
    "         fontsize='xx-large',\n",
    "         fontweight='bold'\n",
    "        )\n",
    "\n",
    "ax3.text(x=datetime.date(2021,1,1),\n",
    "         y=vac['TotalVaccanations'].max(),\n",
    "         s='2021',\n",
    "         color='orange',\n",
    "         fontsize='xx-large',\n",
    "         fontweight='bold'\n",
    "        )\n",
    "\n",
    "ax3.set_title(label='Vaccanations per day',\n",
    "              fontdict={'fontsize':16,'color':'darkgrey','fontweight':'bold'}\n",
    "             )\n",
    "\n",
    "#Assign subplot 4 of 4\n",
    "ax4=ax[1,1]\n",
    "ax4.plot(df_ref_hos_ger_obs['date'],\n",
    "         df_ref_hos_ger_obs['confirmed_infections'],\n",
    "         color='red'\n",
    "        )\n",
    "ax4.plot(vac.index,vac['TotalVaccanations'],\n",
    "         color='green'\n",
    "        )\n",
    "\n",
    "ax4.axvspan(datetime.date(2020,1,1),\n",
    "            datetime.date(2020,12,31),\n",
    "            color='grey',\n",
    "            alpha=.5\n",
    "           )\n",
    "\n",
    "ax4.text(x=datetime.date(2020,10,15),\n",
    "         y=vac['TotalVaccanations'].max(),\n",
    "         s='2020',\n",
    "         color='white',\n",
    "         fontsize='xx-large',\n",
    "         fontweight='bold'\n",
    "        )\n",
    "\n",
    "ax4.text(x=datetime.date(2021,1,1),\n",
    "         y=vac['TotalVaccanations'].max(),\n",
    "         s='2021',\n",
    "         color='orange',\n",
    "         fontsize='xx-large',\n",
    "         fontweight='bold'\n",
    "        )\n",
    "\n",
    "ax4.set_title(label='Confirmed Infections vs. Vaccanations per day',\n",
    "              fontdict={'fontsize':16,'color':'darkgrey','fontweight':'bold'}\n",
    "             )\n",
    "\n",
    "\n",
    "#plt.xticks(rotation=90)\n",
    "#for tick in ax:\n",
    " #   plt.xticks(rotation=90)\n",
    "\n"
   ]
  },
  {
   "cell_type": "code",
   "execution_count": 28,
   "metadata": {},
   "outputs": [],
   "source": [
    "#ineplot_func(data=df_ref_hos_ger_obs,x='date',y='deaths_upper',title='Deaths Germany')\n",
    "#df_ref_hos_ger_obs.info()"
   ]
  },
  {
   "cell_type": "code",
   "execution_count": 29,
   "metadata": {},
   "outputs": [
    {
     "data": {
      "text/html": [
       "<div>\n",
       "<style scoped>\n",
       "    .dataframe tbody tr th:only-of-type {\n",
       "        vertical-align: middle;\n",
       "    }\n",
       "\n",
       "    .dataframe tbody tr th {\n",
       "        vertical-align: top;\n",
       "    }\n",
       "\n",
       "    .dataframe thead th {\n",
       "        text-align: right;\n",
       "    }\n",
       "</style>\n",
       "<table border=\"1\" class=\"dataframe\">\n",
       "  <thead>\n",
       "    <tr style=\"text-align: right;\">\n",
       "      <th></th>\n",
       "      <th>variable</th>\n",
       "      <th>value</th>\n",
       "    </tr>\n",
       "  </thead>\n",
       "  <tbody>\n",
       "    <tr>\n",
       "      <th>0</th>\n",
       "      <td>TotalDeaths</td>\n",
       "      <td>73062.0</td>\n",
       "    </tr>\n",
       "    <tr>\n",
       "      <th>1</th>\n",
       "      <td>TotalInfec</td>\n",
       "      <td>2545400.0</td>\n",
       "    </tr>\n",
       "    <tr>\n",
       "      <th>2</th>\n",
       "      <td>TotalVac</td>\n",
       "      <td>10067955.0</td>\n",
       "    </tr>\n",
       "  </tbody>\n",
       "</table>\n",
       "</div>"
      ],
      "text/plain": [
       "      variable       value\n",
       "0  TotalDeaths     73062.0\n",
       "1   TotalInfec   2545400.0\n",
       "2     TotalVac  10067955.0"
      ]
     },
     "execution_count": 29,
     "metadata": {},
     "output_type": "execute_result"
    }
   ],
   "source": [
    "#Erstelle einen Scatterplot als Blasen und lass die Infizierten, toten und geimpften miteinander vergleichen\n",
    "total_vac=sum(vac['TotalVaccanations'])\n",
    "total_infec=sum(df_ref_hos_ger_obs['confirmed_infections'])\n",
    "total_deaths=sum(df_ref_hos_ger_obs['deaths_upper'])\n",
    "\n",
    "dic_scatter={'TotalVac':[total_vac],\n",
    "             'TotalInfec':[total_infec],\n",
    "             'TotalDeaths':[total_deaths]\n",
    "            }\n",
    "\n",
    "df_scatter=pd.DataFrame.from_dict(data=dic_scatter)\n",
    "df_scatter\n",
    "df_scatter_melt=pd.melt(frame=df_scatter,value_vars=['TotalDeaths','TotalInfec','TotalVac'])\n",
    "df_scatter_melt\n",
    "#sns.scatterplot(data=df_scatter,x='value')"
   ]
  },
  {
   "cell_type": "code",
   "execution_count": 30,
   "metadata": {},
   "outputs": [
    {
     "data": {
      "text/html": [
       "<div>\n",
       "<style scoped>\n",
       "    .dataframe tbody tr th:only-of-type {\n",
       "        vertical-align: middle;\n",
       "    }\n",
       "\n",
       "    .dataframe tbody tr th {\n",
       "        vertical-align: top;\n",
       "    }\n",
       "\n",
       "    .dataframe thead th {\n",
       "        text-align: right;\n",
       "    }\n",
       "</style>\n",
       "<table border=\"1\" class=\"dataframe\">\n",
       "  <thead>\n",
       "    <tr style=\"text-align: right;\">\n",
       "      <th></th>\n",
       "      <th>value</th>\n",
       "      <th>variable_TotalDeaths</th>\n",
       "      <th>variable_TotalInfec</th>\n",
       "      <th>variable_TotalVac</th>\n",
       "    </tr>\n",
       "  </thead>\n",
       "  <tbody>\n",
       "    <tr>\n",
       "      <th>0</th>\n",
       "      <td>73062.0</td>\n",
       "      <td>1</td>\n",
       "      <td>0</td>\n",
       "      <td>0</td>\n",
       "    </tr>\n",
       "    <tr>\n",
       "      <th>1</th>\n",
       "      <td>2545400.0</td>\n",
       "      <td>0</td>\n",
       "      <td>1</td>\n",
       "      <td>0</td>\n",
       "    </tr>\n",
       "    <tr>\n",
       "      <th>2</th>\n",
       "      <td>10067955.0</td>\n",
       "      <td>0</td>\n",
       "      <td>0</td>\n",
       "      <td>1</td>\n",
       "    </tr>\n",
       "  </tbody>\n",
       "</table>\n",
       "</div>"
      ],
      "text/plain": [
       "        value  variable_TotalDeaths  variable_TotalInfec  variable_TotalVac\n",
       "0     73062.0                     1                    0                  0\n",
       "1   2545400.0                     0                    1                  0\n",
       "2  10067955.0                     0                    0                  1"
      ]
     },
     "execution_count": 30,
     "metadata": {},
     "output_type": "execute_result"
    }
   ],
   "source": [
    "encoded_df_scatter_melt=pd.get_dummies(data=df_scatter_melt,\n",
    "                                       columns=['variable']\n",
    "                                      )\n",
    "encoded_df_scatter_melt"
   ]
  },
  {
   "cell_type": "code",
   "execution_count": 31,
   "metadata": {},
   "outputs": [
    {
     "data": {
      "text/plain": [
       "<AxesSubplot:ylabel='value'>"
      ]
     },
     "execution_count": 31,
     "metadata": {},
     "output_type": "execute_result"
    },
    {
     "data": {
      "image/png": "[encoded data removed]",
      "text/plain": [
       "<Figure size 432x288 with 1 Axes>"
      ]
     },
     "metadata": {
      "needs_background": "light"
     },
     "output_type": "display_data"
    }
   ],
   "source": [
    "sns.scatterplot(data=encoded_df_scatter_melt,\n",
    "                x=['variable_TotalDeaths','variable_TotalInfec','variable_TotalVac'],\n",
    "               y='value',\n",
    "               size='value')"
   ]
  },
  {
   "cell_type": "code",
   "execution_count": null,
   "metadata": {},
   "outputs": [],
   "source": []
  },
  {
   "cell_type": "code",
   "execution_count": 32,
   "metadata": {},
   "outputs": [],
   "source": [
    "import plotly.graph_objects as go\n",
    "#import plotly.io as pio\n",
    "#pio.renderers.default = \"browser\""
   ]
  },
  {
   "cell_type": "code",
   "execution_count": 33,
   "metadata": {},
   "outputs": [],
   "source": [
    "variables_val=[1,2,3]\n",
    "df_scatter_melt['Variables']=variables_val\n",
    "\n",
    "fig=go.Figure(data=go.Scatter(x=df_scatter_melt['Variables'],\n",
    "                             y=df_scatter_melt['value'],\n",
    "                             mode='markers',\n",
    "                             marker=dict(size=[40,60,80],\n",
    "                                        color=[0,1,2])))\n",
    "#fig.show()"
   ]
  },
  {
   "cell_type": "code",
   "execution_count": 34,
   "metadata": {},
   "outputs": [],
   "source": [
    "# Hole dir die Impfdaten, schaue wie viele insgesamt geimpft wurden und wie viele noch fehlen\n",
    "#Rechne den durchschnittlichen täglichen Impfaufkommen aus\n",
    "#Trage diesen auf die noch zu impfende Population fort, um zu errechen, wie lange wir noch bei diesem Impftempo brauchen"
   ]
  },
  {
   "cell_type": "code",
   "execution_count": 35,
   "metadata": {},
   "outputs": [],
   "source": [
    "url='https://www.worldometers.info/world-population/germany-population/'\n",
    "html=requests.get(url).text"
   ]
  },
  {
   "cell_type": "code",
   "execution_count": 36,
   "metadata": {},
   "outputs": [
    {
     "data": {
      "text/plain": [
       "83974064"
      ]
     },
     "execution_count": 36,
     "metadata": {},
     "output_type": "execute_result"
    }
   ],
   "source": [
    "reg=r'\\d{2}\\,\\d{3}\\,\\d{3}'\n",
    "text=0\n",
    "soup=BeautifulSoup(html,'html.parser')\n",
    "for i in soup.find_all(attrs={'class':'col-md-8 country-pop-description'}):\n",
    "    text=i.find_all('li')[0].text.split('as')[0]\n",
    "  \n",
    "pop_germ=re.findall(reg,str(text))\n",
    "pop_string=0\n",
    "for i in pop_germ:\n",
    "    pop_string=int(i.replace(',',''))\n",
    "pop_germ=pop_string\n",
    "pop_germ"
   ]
  },
  {
   "cell_type": "code",
   "execution_count": 37,
   "metadata": {},
   "outputs": [
    {
     "data": {
      "image/png": "[encoded data removed]",
      "text/plain": [
       "<Figure size 360x360 with 1 Axes>"
      ]
     },
     "metadata": {
      "needs_background": "light"
     },
     "output_type": "display_data"
    },
    {
     "data": {
      "image/png": "[encoded data removed]",
      "text/plain": [
       "<Figure size 360x360 with 1 Axes>"
      ]
     },
     "metadata": {
      "needs_background": "light"
     },
     "output_type": "display_data"
    }
   ],
   "source": [
    "df_pop=df_scatter\n",
    "df_pop['Population']=pop_germ\n",
    "sns.catplot(kind='bar',data=df_pop[['TotalVac','TotalInfec','TotalDeaths']])\n",
    "sns.catplot(kind='bar',data=df_pop[['TotalVac','TotalInfec','TotalDeaths','Population']])\n",
    "f_pop=pd.melt(frame=df_pop,value_vars=['TotalVac','TotalInfec','TotalDeaths','Population'])\n",
    "\n"
   ]
  },
  {
   "cell_type": "code",
   "execution_count": 38,
   "metadata": {},
   "outputs": [
    {
     "data": {
      "text/html": [
       "<div>\n",
       "<style scoped>\n",
       "    .dataframe tbody tr th:only-of-type {\n",
       "        vertical-align: middle;\n",
       "    }\n",
       "\n",
       "    .dataframe tbody tr th {\n",
       "        vertical-align: top;\n",
       "    }\n",
       "\n",
       "    .dataframe thead th {\n",
       "        text-align: right;\n",
       "    }\n",
       "</style>\n",
       "<table border=\"1\" class=\"dataframe\">\n",
       "  <thead>\n",
       "    <tr style=\"text-align: right;\">\n",
       "      <th></th>\n",
       "      <th>variable</th>\n",
       "      <th>value</th>\n",
       "    </tr>\n",
       "  </thead>\n",
       "  <tbody>\n",
       "    <tr>\n",
       "      <th>0</th>\n",
       "      <td>TotalVac</td>\n",
       "      <td>10067955.0</td>\n",
       "    </tr>\n",
       "    <tr>\n",
       "      <th>1</th>\n",
       "      <td>TotalInfec</td>\n",
       "      <td>2545400.0</td>\n",
       "    </tr>\n",
       "    <tr>\n",
       "      <th>2</th>\n",
       "      <td>TotalDeaths</td>\n",
       "      <td>73062.0</td>\n",
       "    </tr>\n",
       "    <tr>\n",
       "      <th>3</th>\n",
       "      <td>Population</td>\n",
       "      <td>83974064.0</td>\n",
       "    </tr>\n",
       "  </tbody>\n",
       "</table>\n",
       "</div>"
      ],
      "text/plain": [
       "      variable       value\n",
       "0     TotalVac  10067955.0\n",
       "1   TotalInfec   2545400.0\n",
       "2  TotalDeaths     73062.0\n",
       "3   Population  83974064.0"
      ]
     },
     "execution_count": 38,
     "metadata": {},
     "output_type": "execute_result"
    }
   ],
   "source": [
    "f_pop"
   ]
  },
  {
   "cell_type": "code",
   "execution_count": 39,
   "metadata": {},
   "outputs": [
    {
     "data": {
      "text/plain": [
       "124295.74074074074"
      ]
     },
     "execution_count": 39,
     "metadata": {},
     "output_type": "execute_result"
    }
   ],
   "source": [
    "sum(vac['TotalVaccanations'])\n",
    "np.mean(vac['TotalVaccanations'])\n"
   ]
  },
  {
   "cell_type": "code",
   "execution_count": 40,
   "metadata": {},
   "outputs": [],
   "source": [
    "vac_first=sum(vac['FirstVaccanations'])\n",
    "vac_sec=sum(vac['SecoundVaccanations'])\n",
    "vac_first_ratio=np.around(vac_first/pop_germ*100,decimals=2)\n",
    "vac_sec_ratio=np.around(vac_sec/pop_germ*100,decimals=2)\n",
    "vac_first_mean=np.mean(vac['FirstVaccanations'])\n",
    "vac_sec_mean=np.mean(vac['SecoundVaccanations'])\n",
    "\n",
    "vac_first_year=np.around((pop_germ-vac_first)/vac_first_mean/360,decimals=2)\n",
    "vac_sec_year=np.around((pop_germ-vac_sec)/vac_sec_mean/360,decimals=2)\n"
   ]
  },
  {
   "cell_type": "code",
   "execution_count": 41,
   "metadata": {},
   "outputs": [
    {
     "name": "stdout",
     "output_type": "stream",
     "text": [
      "The population of Germany is 83974064 people. At the moment are 8.3% of the population with their first vaccanations\n",
      "and 3.69% with their last vaccanation. Due to the mean of first and secound vaccanations it will take 2.49 years + 2 months\n",
      "to have the whole population with vaccanations\n"
     ]
    }
   ],
   "source": [
    "print(\n",
    "    f'The population of Germany is {pop_germ} people. At the moment are {vac_first_ratio}% of the population with their first vaccanations\\n\\\n",
    "and {vac_sec_ratio}% with their last vaccanation. Due to the mean of first and secound vaccanations it will take {vac_first_year} years + 2 months\\nto \\\n",
    "have the whole population with vaccanations'\n",
    ")"
   ]
  },
  {
   "cell_type": "code",
   "execution_count": 42,
   "metadata": {},
   "outputs": [],
   "source": [
    "vac.to_csv(path_or_buf='D:\\DataSets\\Corona\\World\\To_csv\\Vaccanations.csv')"
   ]
  },
  {
   "cell_type": "code",
   "execution_count": 43,
   "metadata": {},
   "outputs": [
    {
     "data": {
      "text/plain": [
       "DatetimeIndex(['2020-12-27', '2020-12-28', '2020-12-29', '2020-12-30',\n",
       "               '2020-12-31', '2021-01-01', '2021-01-02', '2021-01-03',\n",
       "               '2021-01-04', '2021-01-05', '2021-01-06', '2021-01-07',\n",
       "               '2021-01-08', '2021-01-09', '2021-01-10', '2021-01-11',\n",
       "               '2021-01-12', '2021-01-13', '2021-01-14', '2021-01-15',\n",
       "               '2021-01-16', '2021-01-17', '2021-01-18', '2021-01-19',\n",
       "               '2021-01-20', '2021-01-21', '2021-01-22', '2021-01-23',\n",
       "               '2021-01-24', '2021-01-25', '2021-01-26', '2021-01-27',\n",
       "               '2021-01-28', '2021-01-29', '2021-01-30', '2021-01-31',\n",
       "               '2021-02-01', '2021-02-02', '2021-02-03', '2021-02-04',\n",
       "               '2021-02-05', '2021-02-06', '2021-02-07', '2021-02-08',\n",
       "               '2021-02-09', '2021-02-10', '2021-02-11', '2021-02-12',\n",
       "               '2021-02-13', '2021-02-14', '2021-02-15', '2021-02-16',\n",
       "               '2021-02-17', '2021-02-18', '2021-02-19', '2021-02-20',\n",
       "               '2021-02-21', '2021-02-22', '2021-02-23', '2021-02-24',\n",
       "               '2021-02-25', '2021-02-26', '2021-02-27', '2021-02-28',\n",
       "               '2021-03-01', '2021-03-02', '2021-03-03', '2021-03-04',\n",
       "               '2021-03-05', '2021-03-06', '2021-03-07', '2021-03-08',\n",
       "               '2021-03-09', '2021-03-10', '2021-03-11', '2021-03-12',\n",
       "               '2021-03-13', '2021-03-14', '2021-03-15', '2021-03-16',\n",
       "               '2021-03-17'],\n",
       "              dtype='datetime64[ns]', name='Date', freq=None)"
      ]
     },
     "execution_count": 43,
     "metadata": {},
     "output_type": "execute_result"
    }
   ],
   "source": [
    "vac.index"
   ]
  },
  {
   "cell_type": "code",
   "execution_count": 44,
   "metadata": {},
   "outputs": [],
   "source": [
    "vac_freq=vac.asfreq('D')"
   ]
  },
  {
   "cell_type": "code",
   "execution_count": 45,
   "metadata": {},
   "outputs": [
    {
     "data": {
      "text/html": [
       "<div>\n",
       "<style scoped>\n",
       "    .dataframe tbody tr th:only-of-type {\n",
       "        vertical-align: middle;\n",
       "    }\n",
       "\n",
       "    .dataframe tbody tr th {\n",
       "        vertical-align: top;\n",
       "    }\n",
       "\n",
       "    .dataframe thead th {\n",
       "        text-align: right;\n",
       "    }\n",
       "</style>\n",
       "<table border=\"1\" class=\"dataframe\">\n",
       "  <thead>\n",
       "    <tr style=\"text-align: right;\">\n",
       "      <th></th>\n",
       "      <th>FirstVaccanations</th>\n",
       "      <th>SecoundVaccanations</th>\n",
       "      <th>TotalVaccanations</th>\n",
       "    </tr>\n",
       "    <tr>\n",
       "      <th>Date</th>\n",
       "      <th></th>\n",
       "      <th></th>\n",
       "      <th></th>\n",
       "    </tr>\n",
       "  </thead>\n",
       "  <tbody>\n",
       "    <tr>\n",
       "      <th>2020-12-31</th>\n",
       "      <td>36344.0</td>\n",
       "      <td>0.0</td>\n",
       "      <td>36344.0</td>\n",
       "    </tr>\n",
       "    <tr>\n",
       "      <th>2021-01-31</th>\n",
       "      <td>57394.0</td>\n",
       "      <td>18685.0</td>\n",
       "      <td>76079.0</td>\n",
       "    </tr>\n",
       "    <tr>\n",
       "      <th>2021-02-28</th>\n",
       "      <td>77244.0</td>\n",
       "      <td>55300.0</td>\n",
       "      <td>132543.0</td>\n",
       "    </tr>\n",
       "    <tr>\n",
       "      <th>2021-03-31</th>\n",
       "      <td>167477.0</td>\n",
       "      <td>57027.0</td>\n",
       "      <td>224504.0</td>\n",
       "    </tr>\n",
       "  </tbody>\n",
       "</table>\n",
       "</div>"
      ],
      "text/plain": [
       "            FirstVaccanations  SecoundVaccanations  TotalVaccanations\n",
       "Date                                                                 \n",
       "2020-12-31            36344.0                  0.0            36344.0\n",
       "2021-01-31            57394.0              18685.0            76079.0\n",
       "2021-02-28            77244.0              55300.0           132543.0\n",
       "2021-03-31           167477.0              57027.0           224504.0"
      ]
     },
     "execution_count": 45,
     "metadata": {},
     "output_type": "execute_result"
    }
   ],
   "source": [
    "vac_weekly=vac_freq.resample('W').mean().round()\n",
    "vac_monthly=vac_freq.resample('M').mean().round()\n",
    "vac_monthly\n"
   ]
  },
  {
   "cell_type": "code",
   "execution_count": 46,
   "metadata": {},
   "outputs": [
    {
     "data": {
      "text/html": [
       "<div>\n",
       "<style scoped>\n",
       "    .dataframe tbody tr th:only-of-type {\n",
       "        vertical-align: middle;\n",
       "    }\n",
       "\n",
       "    .dataframe tbody tr th {\n",
       "        vertical-align: top;\n",
       "    }\n",
       "\n",
       "    .dataframe thead th {\n",
       "        text-align: right;\n",
       "    }\n",
       "</style>\n",
       "<table border=\"1\" class=\"dataframe\">\n",
       "  <thead>\n",
       "    <tr style=\"text-align: right;\">\n",
       "      <th></th>\n",
       "      <th>FirstVaccanations</th>\n",
       "      <th>SecoundVaccanations</th>\n",
       "      <th>TotalVaccanations</th>\n",
       "    </tr>\n",
       "    <tr>\n",
       "      <th>Date</th>\n",
       "      <th></th>\n",
       "      <th></th>\n",
       "      <th></th>\n",
       "    </tr>\n",
       "  </thead>\n",
       "  <tbody>\n",
       "    <tr>\n",
       "      <th>2020-12-27</th>\n",
       "      <td>23716.0</td>\n",
       "      <td>0.0</td>\n",
       "      <td>23716.0</td>\n",
       "    </tr>\n",
       "    <tr>\n",
       "      <th>2020-12-28</th>\n",
       "      <td>18740.0</td>\n",
       "      <td>0.0</td>\n",
       "      <td>18740.0</td>\n",
       "    </tr>\n",
       "    <tr>\n",
       "      <th>2020-12-29</th>\n",
       "      <td>42648.0</td>\n",
       "      <td>0.0</td>\n",
       "      <td>42648.0</td>\n",
       "    </tr>\n",
       "    <tr>\n",
       "      <th>2020-12-30</th>\n",
       "      <td>58001.0</td>\n",
       "      <td>0.0</td>\n",
       "      <td>58001.0</td>\n",
       "    </tr>\n",
       "    <tr>\n",
       "      <th>2020-12-31</th>\n",
       "      <td>38616.0</td>\n",
       "      <td>0.0</td>\n",
       "      <td>38616.0</td>\n",
       "    </tr>\n",
       "    <tr>\n",
       "      <th>2021-01-01</th>\n",
       "      <td>24749.0</td>\n",
       "      <td>0.0</td>\n",
       "      <td>24749.0</td>\n",
       "    </tr>\n",
       "    <tr>\n",
       "      <th>2021-01-02</th>\n",
       "      <td>52180.0</td>\n",
       "      <td>0.0</td>\n",
       "      <td>52180.0</td>\n",
       "    </tr>\n",
       "    <tr>\n",
       "      <th>2021-01-03</th>\n",
       "      <td>24986.0</td>\n",
       "      <td>0.0</td>\n",
       "      <td>24986.0</td>\n",
       "    </tr>\n",
       "    <tr>\n",
       "      <th>2021-01-04</th>\n",
       "      <td>48709.0</td>\n",
       "      <td>0.0</td>\n",
       "      <td>48709.0</td>\n",
       "    </tr>\n",
       "    <tr>\n",
       "      <th>2021-01-05</th>\n",
       "      <td>52476.0</td>\n",
       "      <td>0.0</td>\n",
       "      <td>52476.0</td>\n",
       "    </tr>\n",
       "    <tr>\n",
       "      <th>2021-01-06</th>\n",
       "      <td>59166.0</td>\n",
       "      <td>0.0</td>\n",
       "      <td>59166.0</td>\n",
       "    </tr>\n",
       "    <tr>\n",
       "      <th>2021-01-07</th>\n",
       "      <td>58460.0</td>\n",
       "      <td>0.0</td>\n",
       "      <td>58460.0</td>\n",
       "    </tr>\n",
       "    <tr>\n",
       "      <th>2021-01-08</th>\n",
       "      <td>60444.0</td>\n",
       "      <td>0.0</td>\n",
       "      <td>60444.0</td>\n",
       "    </tr>\n",
       "    <tr>\n",
       "      <th>2021-01-09</th>\n",
       "      <td>57322.0</td>\n",
       "      <td>0.0</td>\n",
       "      <td>57322.0</td>\n",
       "    </tr>\n",
       "    <tr>\n",
       "      <th>2021-01-10</th>\n",
       "      <td>33279.0</td>\n",
       "      <td>0.0</td>\n",
       "      <td>33279.0</td>\n",
       "    </tr>\n",
       "    <tr>\n",
       "      <th>2021-01-11</th>\n",
       "      <td>65666.0</td>\n",
       "      <td>0.0</td>\n",
       "      <td>65666.0</td>\n",
       "    </tr>\n",
       "    <tr>\n",
       "      <th>2021-01-12</th>\n",
       "      <td>82085.0</td>\n",
       "      <td>0.0</td>\n",
       "      <td>82085.0</td>\n",
       "    </tr>\n",
       "    <tr>\n",
       "      <th>2021-01-13</th>\n",
       "      <td>99084.0</td>\n",
       "      <td>0.0</td>\n",
       "      <td>99084.0</td>\n",
       "    </tr>\n",
       "    <tr>\n",
       "      <th>2021-01-14</th>\n",
       "      <td>100111.0</td>\n",
       "      <td>114.0</td>\n",
       "      <td>100225.0</td>\n",
       "    </tr>\n",
       "    <tr>\n",
       "      <th>2021-01-15</th>\n",
       "      <td>92397.0</td>\n",
       "      <td>428.0</td>\n",
       "      <td>92825.0</td>\n",
       "    </tr>\n",
       "    <tr>\n",
       "      <th>2021-01-16</th>\n",
       "      <td>56702.0</td>\n",
       "      <td>397.0</td>\n",
       "      <td>57099.0</td>\n",
       "    </tr>\n",
       "    <tr>\n",
       "      <th>2021-01-17</th>\n",
       "      <td>30896.0</td>\n",
       "      <td>13754.0</td>\n",
       "      <td>44650.0</td>\n",
       "    </tr>\n",
       "    <tr>\n",
       "      <th>2021-01-18</th>\n",
       "      <td>58086.0</td>\n",
       "      <td>16372.0</td>\n",
       "      <td>74458.0</td>\n",
       "    </tr>\n",
       "    <tr>\n",
       "      <th>2021-01-19</th>\n",
       "      <td>68169.0</td>\n",
       "      <td>27229.0</td>\n",
       "      <td>95398.0</td>\n",
       "    </tr>\n",
       "    <tr>\n",
       "      <th>2021-01-20</th>\n",
       "      <td>78285.0</td>\n",
       "      <td>50655.0</td>\n",
       "      <td>128940.0</td>\n",
       "    </tr>\n",
       "    <tr>\n",
       "      <th>2021-01-21</th>\n",
       "      <td>60693.0</td>\n",
       "      <td>35435.0</td>\n",
       "      <td>96128.0</td>\n",
       "    </tr>\n",
       "    <tr>\n",
       "      <th>2021-01-22</th>\n",
       "      <td>84251.0</td>\n",
       "      <td>31357.0</td>\n",
       "      <td>115608.0</td>\n",
       "    </tr>\n",
       "    <tr>\n",
       "      <th>2021-01-23</th>\n",
       "      <td>48970.0</td>\n",
       "      <td>43996.0</td>\n",
       "      <td>92966.0</td>\n",
       "    </tr>\n",
       "    <tr>\n",
       "      <th>2021-01-24</th>\n",
       "      <td>38213.0</td>\n",
       "      <td>28089.0</td>\n",
       "      <td>66302.0</td>\n",
       "    </tr>\n",
       "    <tr>\n",
       "      <th>2021-01-25</th>\n",
       "      <td>58192.0</td>\n",
       "      <td>39762.0</td>\n",
       "      <td>97954.0</td>\n",
       "    </tr>\n",
       "    <tr>\n",
       "      <th>2021-01-26</th>\n",
       "      <td>53106.0</td>\n",
       "      <td>49629.0</td>\n",
       "      <td>102735.0</td>\n",
       "    </tr>\n",
       "    <tr>\n",
       "      <th>2021-01-27</th>\n",
       "      <td>54054.0</td>\n",
       "      <td>59289.0</td>\n",
       "      <td>113343.0</td>\n",
       "    </tr>\n",
       "    <tr>\n",
       "      <th>2021-01-28</th>\n",
       "      <td>51582.0</td>\n",
       "      <td>49013.0</td>\n",
       "      <td>100595.0</td>\n",
       "    </tr>\n",
       "    <tr>\n",
       "      <th>2021-01-29</th>\n",
       "      <td>55981.0</td>\n",
       "      <td>53756.0</td>\n",
       "      <td>109737.0</td>\n",
       "    </tr>\n",
       "    <tr>\n",
       "      <th>2021-01-30</th>\n",
       "      <td>39591.0</td>\n",
       "      <td>48588.0</td>\n",
       "      <td>88179.0</td>\n",
       "    </tr>\n",
       "    <tr>\n",
       "      <th>2021-01-31</th>\n",
       "      <td>31325.0</td>\n",
       "      <td>31380.0</td>\n",
       "      <td>62705.0</td>\n",
       "    </tr>\n",
       "    <tr>\n",
       "      <th>2021-02-01</th>\n",
       "      <td>50093.0</td>\n",
       "      <td>65861.0</td>\n",
       "      <td>115954.0</td>\n",
       "    </tr>\n",
       "    <tr>\n",
       "      <th>2021-02-02</th>\n",
       "      <td>57927.0</td>\n",
       "      <td>69750.0</td>\n",
       "      <td>127677.0</td>\n",
       "    </tr>\n",
       "    <tr>\n",
       "      <th>2021-02-03</th>\n",
       "      <td>58033.0</td>\n",
       "      <td>84920.0</td>\n",
       "      <td>142953.0</td>\n",
       "    </tr>\n",
       "    <tr>\n",
       "      <th>2021-02-04</th>\n",
       "      <td>63143.0</td>\n",
       "      <td>72738.0</td>\n",
       "      <td>135881.0</td>\n",
       "    </tr>\n",
       "    <tr>\n",
       "      <th>2021-02-05</th>\n",
       "      <td>59871.0</td>\n",
       "      <td>73877.0</td>\n",
       "      <td>133748.0</td>\n",
       "    </tr>\n",
       "    <tr>\n",
       "      <th>2021-02-06</th>\n",
       "      <td>48708.0</td>\n",
       "      <td>55368.0</td>\n",
       "      <td>104076.0</td>\n",
       "    </tr>\n",
       "    <tr>\n",
       "      <th>2021-02-07</th>\n",
       "      <td>32961.0</td>\n",
       "      <td>26523.0</td>\n",
       "      <td>59484.0</td>\n",
       "    </tr>\n",
       "    <tr>\n",
       "      <th>2021-02-08</th>\n",
       "      <td>54803.0</td>\n",
       "      <td>51620.0</td>\n",
       "      <td>106423.0</td>\n",
       "    </tr>\n",
       "    <tr>\n",
       "      <th>2021-02-09</th>\n",
       "      <td>59665.0</td>\n",
       "      <td>65202.0</td>\n",
       "      <td>124867.0</td>\n",
       "    </tr>\n",
       "    <tr>\n",
       "      <th>2021-02-10</th>\n",
       "      <td>75277.0</td>\n",
       "      <td>75296.0</td>\n",
       "      <td>150573.0</td>\n",
       "    </tr>\n",
       "    <tr>\n",
       "      <th>2021-02-11</th>\n",
       "      <td>71447.0</td>\n",
       "      <td>72569.0</td>\n",
       "      <td>144016.0</td>\n",
       "    </tr>\n",
       "    <tr>\n",
       "      <th>2021-02-12</th>\n",
       "      <td>80246.0</td>\n",
       "      <td>78380.0</td>\n",
       "      <td>158626.0</td>\n",
       "    </tr>\n",
       "    <tr>\n",
       "      <th>2021-02-13</th>\n",
       "      <td>63309.0</td>\n",
       "      <td>46650.0</td>\n",
       "      <td>109959.0</td>\n",
       "    </tr>\n",
       "    <tr>\n",
       "      <th>2021-02-14</th>\n",
       "      <td>39801.0</td>\n",
       "      <td>26983.0</td>\n",
       "      <td>66784.0</td>\n",
       "    </tr>\n",
       "    <tr>\n",
       "      <th>2021-02-15</th>\n",
       "      <td>70790.0</td>\n",
       "      <td>56030.0</td>\n",
       "      <td>126820.0</td>\n",
       "    </tr>\n",
       "    <tr>\n",
       "      <th>2021-02-16</th>\n",
       "      <td>81535.0</td>\n",
       "      <td>54784.0</td>\n",
       "      <td>136319.0</td>\n",
       "    </tr>\n",
       "    <tr>\n",
       "      <th>2021-02-17</th>\n",
       "      <td>94718.0</td>\n",
       "      <td>54731.0</td>\n",
       "      <td>149449.0</td>\n",
       "    </tr>\n",
       "    <tr>\n",
       "      <th>2021-02-18</th>\n",
       "      <td>93605.0</td>\n",
       "      <td>52043.0</td>\n",
       "      <td>145648.0</td>\n",
       "    </tr>\n",
       "    <tr>\n",
       "      <th>2021-02-19</th>\n",
       "      <td>97176.0</td>\n",
       "      <td>53504.0</td>\n",
       "      <td>150680.0</td>\n",
       "    </tr>\n",
       "    <tr>\n",
       "      <th>2021-02-20</th>\n",
       "      <td>74965.0</td>\n",
       "      <td>37668.0</td>\n",
       "      <td>112633.0</td>\n",
       "    </tr>\n",
       "    <tr>\n",
       "      <th>2021-02-21</th>\n",
       "      <td>56627.0</td>\n",
       "      <td>28938.0</td>\n",
       "      <td>85565.0</td>\n",
       "    </tr>\n",
       "    <tr>\n",
       "      <th>2021-02-22</th>\n",
       "      <td>99195.0</td>\n",
       "      <td>52978.0</td>\n",
       "      <td>152173.0</td>\n",
       "    </tr>\n",
       "    <tr>\n",
       "      <th>2021-02-23</th>\n",
       "      <td>104498.0</td>\n",
       "      <td>55641.0</td>\n",
       "      <td>160139.0</td>\n",
       "    </tr>\n",
       "    <tr>\n",
       "      <th>2021-02-24</th>\n",
       "      <td>116905.0</td>\n",
       "      <td>57961.0</td>\n",
       "      <td>174866.0</td>\n",
       "    </tr>\n",
       "    <tr>\n",
       "      <th>2021-02-25</th>\n",
       "      <td>127304.0</td>\n",
       "      <td>52670.0</td>\n",
       "      <td>179974.0</td>\n",
       "    </tr>\n",
       "    <tr>\n",
       "      <th>2021-02-26</th>\n",
       "      <td>136714.0</td>\n",
       "      <td>58844.0</td>\n",
       "      <td>195558.0</td>\n",
       "    </tr>\n",
       "    <tr>\n",
       "      <th>2021-02-27</th>\n",
       "      <td>107851.0</td>\n",
       "      <td>38862.0</td>\n",
       "      <td>146713.0</td>\n",
       "    </tr>\n",
       "    <tr>\n",
       "      <th>2021-02-28</th>\n",
       "      <td>85654.0</td>\n",
       "      <td>28002.0</td>\n",
       "      <td>113656.0</td>\n",
       "    </tr>\n",
       "    <tr>\n",
       "      <th>2021-03-01</th>\n",
       "      <td>141376.0</td>\n",
       "      <td>50256.0</td>\n",
       "      <td>191632.0</td>\n",
       "    </tr>\n",
       "    <tr>\n",
       "      <th>2021-03-02</th>\n",
       "      <td>160654.0</td>\n",
       "      <td>55658.0</td>\n",
       "      <td>216312.0</td>\n",
       "    </tr>\n",
       "    <tr>\n",
       "      <th>2021-03-03</th>\n",
       "      <td>173340.0</td>\n",
       "      <td>67235.0</td>\n",
       "      <td>240575.0</td>\n",
       "    </tr>\n",
       "    <tr>\n",
       "      <th>2021-03-04</th>\n",
       "      <td>176418.0</td>\n",
       "      <td>61842.0</td>\n",
       "      <td>238260.0</td>\n",
       "    </tr>\n",
       "    <tr>\n",
       "      <th>2021-03-05</th>\n",
       "      <td>187172.0</td>\n",
       "      <td>63299.0</td>\n",
       "      <td>250471.0</td>\n",
       "    </tr>\n",
       "    <tr>\n",
       "      <th>2021-03-06</th>\n",
       "      <td>146255.0</td>\n",
       "      <td>47252.0</td>\n",
       "      <td>193507.0</td>\n",
       "    </tr>\n",
       "    <tr>\n",
       "      <th>2021-03-07</th>\n",
       "      <td>113422.0</td>\n",
       "      <td>34546.5</td>\n",
       "      <td>147968.5</td>\n",
       "    </tr>\n",
       "    <tr>\n",
       "      <th>2021-03-08</th>\n",
       "      <td>178056.0</td>\n",
       "      <td>53198.5</td>\n",
       "      <td>231254.5</td>\n",
       "    </tr>\n",
       "    <tr>\n",
       "      <th>2021-03-09</th>\n",
       "      <td>191905.0</td>\n",
       "      <td>55046.0</td>\n",
       "      <td>246951.0</td>\n",
       "    </tr>\n",
       "    <tr>\n",
       "      <th>2021-03-10</th>\n",
       "      <td>209528.0</td>\n",
       "      <td>67044.0</td>\n",
       "      <td>276572.0</td>\n",
       "    </tr>\n",
       "    <tr>\n",
       "      <th>2021-03-11</th>\n",
       "      <td>222687.0</td>\n",
       "      <td>62808.0</td>\n",
       "      <td>285495.0</td>\n",
       "    </tr>\n",
       "    <tr>\n",
       "      <th>2021-03-12</th>\n",
       "      <td>225105.0</td>\n",
       "      <td>69095.0</td>\n",
       "      <td>294200.0</td>\n",
       "    </tr>\n",
       "    <tr>\n",
       "      <th>2021-03-13</th>\n",
       "      <td>185577.0</td>\n",
       "      <td>48223.0</td>\n",
       "      <td>233800.0</td>\n",
       "    </tr>\n",
       "    <tr>\n",
       "      <th>2021-03-14</th>\n",
       "      <td>129038.0</td>\n",
       "      <td>35168.0</td>\n",
       "      <td>164206.0</td>\n",
       "    </tr>\n",
       "    <tr>\n",
       "      <th>2021-03-15</th>\n",
       "      <td>173745.0</td>\n",
       "      <td>57059.0</td>\n",
       "      <td>230804.0</td>\n",
       "    </tr>\n",
       "    <tr>\n",
       "      <th>2021-03-16</th>\n",
       "      <td>110295.0</td>\n",
       "      <td>65843.0</td>\n",
       "      <td>176138.0</td>\n",
       "    </tr>\n",
       "    <tr>\n",
       "      <th>2021-03-17</th>\n",
       "      <td>122536.0</td>\n",
       "      <td>75885.0</td>\n",
       "      <td>198421.0</td>\n",
       "    </tr>\n",
       "  </tbody>\n",
       "</table>\n",
       "</div>"
      ],
      "text/plain": [
       "            FirstVaccanations  SecoundVaccanations  TotalVaccanations\n",
       "Date                                                                 \n",
       "2020-12-27            23716.0                  0.0            23716.0\n",
       "2020-12-28            18740.0                  0.0            18740.0\n",
       "2020-12-29            42648.0                  0.0            42648.0\n",
       "2020-12-30            58001.0                  0.0            58001.0\n",
       "2020-12-31            38616.0                  0.0            38616.0\n",
       "2021-01-01            24749.0                  0.0            24749.0\n",
       "2021-01-02            52180.0                  0.0            52180.0\n",
       "2021-01-03            24986.0                  0.0            24986.0\n",
       "2021-01-04            48709.0                  0.0            48709.0\n",
       "2021-01-05            52476.0                  0.0            52476.0\n",
       "2021-01-06            59166.0                  0.0            59166.0\n",
       "2021-01-07            58460.0                  0.0            58460.0\n",
       "2021-01-08            60444.0                  0.0            60444.0\n",
       "2021-01-09            57322.0                  0.0            57322.0\n",
       "2021-01-10            33279.0                  0.0            33279.0\n",
       "2021-01-11            65666.0                  0.0            65666.0\n",
       "2021-01-12            82085.0                  0.0            82085.0\n",
       "2021-01-13            99084.0                  0.0            99084.0\n",
       "2021-01-14           100111.0                114.0           100225.0\n",
       "2021-01-15            92397.0                428.0            92825.0\n",
       "2021-01-16            56702.0                397.0            57099.0\n",
       "2021-01-17            30896.0              13754.0            44650.0\n",
       "2021-01-18            58086.0              16372.0            74458.0\n",
       "2021-01-19            68169.0              27229.0            95398.0\n",
       "2021-01-20            78285.0              50655.0           128940.0\n",
       "2021-01-21            60693.0              35435.0            96128.0\n",
       "2021-01-22            84251.0              31357.0           115608.0\n",
       "2021-01-23            48970.0              43996.0            92966.0\n",
       "2021-01-24            38213.0              28089.0            66302.0\n",
       "2021-01-25            58192.0              39762.0            97954.0\n",
       "2021-01-26            53106.0              49629.0           102735.0\n",
       "2021-01-27            54054.0              59289.0           113343.0\n",
       "2021-01-28            51582.0              49013.0           100595.0\n",
       "2021-01-29            55981.0              53756.0           109737.0\n",
       "2021-01-30            39591.0              48588.0            88179.0\n",
       "2021-01-31            31325.0              31380.0            62705.0\n",
       "2021-02-01            50093.0              65861.0           115954.0\n",
       "2021-02-02            57927.0              69750.0           127677.0\n",
       "2021-02-03            58033.0              84920.0           142953.0\n",
       "2021-02-04            63143.0              72738.0           135881.0\n",
       "2021-02-05            59871.0              73877.0           133748.0\n",
       "2021-02-06            48708.0              55368.0           104076.0\n",
       "2021-02-07            32961.0              26523.0            59484.0\n",
       "2021-02-08            54803.0              51620.0           106423.0\n",
       "2021-02-09            59665.0              65202.0           124867.0\n",
       "2021-02-10            75277.0              75296.0           150573.0\n",
       "2021-02-11            71447.0              72569.0           144016.0\n",
       "2021-02-12            80246.0              78380.0           158626.0\n",
       "2021-02-13            63309.0              46650.0           109959.0\n",
       "2021-02-14            39801.0              26983.0            66784.0\n",
       "2021-02-15            70790.0              56030.0           126820.0\n",
       "2021-02-16            81535.0              54784.0           136319.0\n",
       "2021-02-17            94718.0              54731.0           149449.0\n",
       "2021-02-18            93605.0              52043.0           145648.0\n",
       "2021-02-19            97176.0              53504.0           150680.0\n",
       "2021-02-20            74965.0              37668.0           112633.0\n",
       "2021-02-21            56627.0              28938.0            85565.0\n",
       "2021-02-22            99195.0              52978.0           152173.0\n",
       "2021-02-23           104498.0              55641.0           160139.0\n",
       "2021-02-24           116905.0              57961.0           174866.0\n",
       "2021-02-25           127304.0              52670.0           179974.0\n",
       "2021-02-26           136714.0              58844.0           195558.0\n",
       "2021-02-27           107851.0              38862.0           146713.0\n",
       "2021-02-28            85654.0              28002.0           113656.0\n",
       "2021-03-01           141376.0              50256.0           191632.0\n",
       "2021-03-02           160654.0              55658.0           216312.0\n",
       "2021-03-03           173340.0              67235.0           240575.0\n",
       "2021-03-04           176418.0              61842.0           238260.0\n",
       "2021-03-05           187172.0              63299.0           250471.0\n",
       "2021-03-06           146255.0              47252.0           193507.0\n",
       "2021-03-07           113422.0              34546.5           147968.5\n",
       "2021-03-08           178056.0              53198.5           231254.5\n",
       "2021-03-09           191905.0              55046.0           246951.0\n",
       "2021-03-10           209528.0              67044.0           276572.0\n",
       "2021-03-11           222687.0              62808.0           285495.0\n",
       "2021-03-12           225105.0              69095.0           294200.0\n",
       "2021-03-13           185577.0              48223.0           233800.0\n",
       "2021-03-14           129038.0              35168.0           164206.0\n",
       "2021-03-15           173745.0              57059.0           230804.0\n",
       "2021-03-16           110295.0              65843.0           176138.0\n",
       "2021-03-17           122536.0              75885.0           198421.0"
      ]
     },
     "execution_count": 46,
     "metadata": {},
     "output_type": "execute_result"
    }
   ],
   "source": [
    "vac"
   ]
  },
  {
   "cell_type": "code",
   "execution_count": null,
   "metadata": {},
   "outputs": [],
   "source": []
  },
  {
   "cell_type": "code",
   "execution_count": null,
   "metadata": {},
   "outputs": [],
   "source": []
  }
 ],
 "metadata": {
  "kernelspec": {
   "display_name": "Python 3",
   "language": "python",
   "name": "python3"
  },
  "language_info": {
   "codemirror_mode": {
    "name": "ipython",
    "version": 3
   },
   "file_extension": ".py",
   "mimetype": "text/x-python",
   "name": "python",
   "nbconvert_exporter": "python",
   "pygments_lexer": "ipython3",
   "version": "3.8.5"
  }
 },
 "nbformat": 4,
 "nbformat_minor": 4
}
