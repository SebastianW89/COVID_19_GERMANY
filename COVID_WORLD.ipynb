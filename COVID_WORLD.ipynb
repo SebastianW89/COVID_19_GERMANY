{
 "cells": [
  {
   "cell_type": "markdown",
   "metadata": {},
   "source": [
    "Source: https://covid19.healthdata.org/global?view=total-deaths&tab=trend\n",
    "Vaccinations of Germany: https://www.rki.de/DE/Content/InfAZ/N/Neuartiges_Coronavirus/Daten/Impfquoten-Tab.html"
   ]
  },
  {
   "cell_type": "markdown",
   "metadata": {},
   "source": [
    "Some important KPIs https://www.arcgis.com/apps/opsdashboard/index.html#/bda7594740fd40299423467b48e9ecf6\n"
   ]
  },
  {
   "cell_type": "code",
   "execution_count": 1,
   "metadata": {},
   "outputs": [],
   "source": [
    "import pandas as pd\n",
    "import numpy as np\n",
    "import matplotlib.pyplot as plt\n",
    "%matplotlib inline\n",
    "import seaborn as sns\n",
    "import requests\n",
    "from bs4 import BeautifulSoup\n",
    "import datetime\n",
    "import re\n",
    "\n",
    "\n",
    "\n",
    "pd.set_option(\"display.max.rows\",None)"
   ]
  },
  {
   "cell_type": "code",
   "execution_count": 2,
   "metadata": {},
   "outputs": [],
   "source": [
    "path='D:/DataSets/Corona/World'\n",
    "\n",
    "df_best_masks_hosp=pd.read_csv(path+str('/best_masks_hospitalization_all_locs.csv'),low_memory=False)\n",
    "df_new_variant=pd.read_csv(path+str('/new_variant_hospitalization_all_locs.csv'),low_memory=False)\n",
    "df_reference_hospitalization=pd.read_csv(path+str('/reference_hospitalization_all_locs.csv'),low_memory=False)\n",
    "df_summary=pd.read_csv(path+str('/Summary_stats_all_locs.csv'),low_memory=False)\n",
    "df_worse_hospitalization=pd.read_csv(path+str('/worse_hospitalization_all_locs.csv'),low_memory=False)"
   ]
  },
  {
   "cell_type": "markdown",
   "metadata": {},
   "source": [
    "Here Comes some  functions to use in the report"
   ]
  },
  {
   "cell_type": "code",
   "execution_count": 3,
   "metadata": {},
   "outputs": [],
   "source": [
    "list_of_country=[]\n",
    "for i in df_best_masks_hosp['location_name'].unique():\n",
    "    list_of_country.append(i)\n",
    "#print(sorted(list_of_country))"
   ]
  },
  {
   "cell_type": "code",
   "execution_count": 4,
   "metadata": {},
   "outputs": [],
   "source": [
    "def lineplot_func(data,x,y,title=None,hue=None):\n",
    "    \n",
    "    if data[x].dtypes=='object':\n",
    "        x=pd.to_datetime(data[x])\n",
    "    \n",
    "    fig,ax=plt.subplots(figsize=(10,5))\n",
    "    fig=sns.lineplot(data=data\n",
    "                     ,x=x\n",
    "                     ,y=y\n",
    "                     ,estimator=sum\n",
    "                     ,ci=None\n",
    "                     ,hue=hue)\n",
    "    plt.title(title)"
   ]
  },
  {
   "cell_type": "code",
   "execution_count": 5,
   "metadata": {},
   "outputs": [],
   "source": [
    "#the .copy() is due to the SettingWithCopyWarning https://www.youtube.com/watch?v=4R4WsDJ-KVc \n",
    "df_ref_hos_ger=df_reference_hospitalization.loc[df_reference_hospitalization['location_name']=='Germany'].copy()\n",
    "df_ref_hos_ger['date']=pd.to_datetime(df_ref_hos_ger['date'])\n",
    "#df_ref_hos_ger.loc[df_ref_hos_ger['date']]=pd.to_datetime(df_ref_hos_ger['date'])"
   ]
  },
  {
   "cell_type": "markdown",
   "metadata": {},
   "source": [
    "# Reference hospitalization"
   ]
  },
  {
   "cell_type": "code",
   "execution_count": 6,
   "metadata": {},
   "outputs": [
    {
     "name": "stdout",
     "output_type": "stream",
     "text": [
      "(514, 73)\n"
     ]
    },
    {
     "data": {
      "text/plain": [
       "['mobility_data_type',\n",
       " 'mobility_composite',\n",
       " 'confirmed_infections_data_type',\n",
       " 'confirmed_infections',\n",
       " 'confirmed_infections_p100k_rate',\n",
       " 'seroprev_mean',\n",
       " 'seroprev_upper',\n",
       " 'seroprev_lower',\n",
       " 'seroprev_data_type']"
      ]
     },
     "execution_count": 6,
     "metadata": {},
     "output_type": "execute_result"
    }
   ],
   "source": [
    "print(df_ref_hos_ger.shape)\n",
    "df_ref_hos_ger.columns[df_ref_hos_ger.isna().any()].tolist()"
   ]
  },
  {
   "cell_type": "code",
   "execution_count": 7,
   "metadata": {},
   "outputs": [
    {
     "data": {
      "text/plain": [
       "<AxesSubplot:>"
      ]
     },
     "execution_count": 7,
     "metadata": {},
     "output_type": "execute_result"
    },
    {
     "data": {
      "image/png": "[encoded data removed]",
      "text/plain": [
       "<Figure size 432x288 with 1 Axes>"
      ]
     },
     "metadata": {
      "needs_background": "light"
     },
     "output_type": "display_data"
    }
   ],
   "source": [
    "null_values=df_ref_hos_ger.isna().sum()\n",
    "null_values=null_values[null_values>0]\n",
    "null_values.plot(kind='bar')"
   ]
  },
  {
   "cell_type": "code",
   "execution_count": 8,
   "metadata": {},
   "outputs": [
    {
     "name": "stdout",
     "output_type": "stream",
     "text": [
      "mobility_data_type                   4\n",
      "mobility_composite                   4\n",
      "confirmed_infections_data_type     115\n",
      "confirmed_infections               115\n",
      "confirmed_infections_p100k_rate    115\n",
      "seroprev_mean                       78\n",
      "seroprev_upper                      78\n",
      "seroprev_lower                      78\n",
      "seroprev_data_type                  78\n",
      "dtype: int64\n",
      "int64\n"
     ]
    }
   ],
   "source": [
    "print(null_values)\n",
    "print(null_values.dtypes)"
   ]
  },
  {
   "cell_type": "markdown",
   "metadata": {},
   "source": [
    "There are only a few columns with NaNs. These columns pretend to two different types: mobility and confiremt infections.\n",
    "The sum of NaN is among each column the same (for mobility 4 and for infections 120).\n",
    "As we´ll need the infections later, we have to handle these missing quantitative values in the Dataframe.\n"
   ]
  },
  {
   "cell_type": "code",
   "execution_count": 9,
   "metadata": {},
   "outputs": [],
   "source": [
    "quantitative=[i for i in df_ref_hos_ger.columns if df_ref_hos_ger[i].dtypes!='object']\n",
    "qualitative=[i for i in df_ref_hos_ger.columns if df_ref_hos_ger[i].dtypes =='object']"
   ]
  },
  {
   "cell_type": "code",
   "execution_count": 10,
   "metadata": {},
   "outputs": [
    {
     "data": {
      "text/plain": [
       "['mobility_composite',\n",
       " 'confirmed_infections',\n",
       " 'confirmed_infections_p100k_rate',\n",
       " 'seroprev_mean',\n",
       " 'seroprev_upper',\n",
       " 'seroprev_lower']"
      ]
     },
     "execution_count": 10,
     "metadata": {},
     "output_type": "execute_result"
    }
   ],
   "source": [
    "#df_quan=df_ref_hos_ger[quantitative]\n",
    "df_ref_hos_ger[quantitative].columns[df_ref_hos_ger[quantitative].isna().any()].tolist()"
   ]
  },
  {
   "cell_type": "code",
   "execution_count": 11,
   "metadata": {},
   "outputs": [
    {
     "data": {
      "text/plain": [
       "['mobility_data_type', 'confirmed_infections_data_type', 'seroprev_data_type']"
      ]
     },
     "execution_count": 11,
     "metadata": {},
     "output_type": "execute_result"
    }
   ],
   "source": [
    "df_ref_hos_ger[qualitative].columns[df_ref_hos_ger[qualitative].isna().any()].tolist()"
   ]
  },
  {
   "cell_type": "code",
   "execution_count": 12,
   "metadata": {},
   "outputs": [
    {
     "name": "stdout",
     "output_type": "stream",
     "text": [
      "<class 'pandas.core.frame.DataFrame'>\n",
      "Int64Index: 514 entries, 25367 to 25880\n",
      "Data columns (total 8 columns):\n",
      " #   Column                          Non-Null Count  Dtype \n",
      "---  ------                          --------------  ----- \n",
      " 0   location_name                   514 non-null    object\n",
      " 1   hosp_data_type                  514 non-null    object\n",
      " 2   deaths_data_type                514 non-null    object\n",
      " 3   mobility_data_type              510 non-null    object\n",
      " 4   total_tests_data_type           514 non-null    object\n",
      " 5   confirmed_infections_data_type  399 non-null    object\n",
      " 6   est_infections_data_type        514 non-null    object\n",
      " 7   seroprev_data_type              436 non-null    object\n",
      "dtypes: object(8)\n",
      "memory usage: 36.1+ KB\n"
     ]
    }
   ],
   "source": [
    "df_ref_hos_ger[qualitative].info()"
   ]
  },
  {
   "cell_type": "code",
   "execution_count": 13,
   "metadata": {},
   "outputs": [],
   "source": [
    "for c in qualitative:\n",
    "    df_ref_hos_ger[c]=df_ref_hos_ger[c].astype('category')\n",
    "       \n",
    "   \n",
    "    if df_ref_hos_ger[c].isnull().any():      \n",
    "        df_ref_hos_ger[c] = df_ref_hos_ger[c].cat.add_categories(['MISSING'])  \n",
    "        df_ref_hos_ger[c] = df_ref_hos_ger[c].fillna('MISSING')                  "
   ]
  },
  {
   "cell_type": "code",
   "execution_count": 14,
   "metadata": {},
   "outputs": [
    {
     "data": {
      "text/plain": [
       "location_name                     False\n",
       "hosp_data_type                    False\n",
       "deaths_data_type                  False\n",
       "mobility_data_type                False\n",
       "total_tests_data_type             False\n",
       "confirmed_infections_data_type    False\n",
       "est_infections_data_type          False\n",
       "seroprev_data_type                False\n",
       "dtype: bool"
      ]
     },
     "execution_count": 14,
     "metadata": {},
     "output_type": "execute_result"
    }
   ],
   "source": [
    "df_ref_hos_ger[qualitative].isna().any()"
   ]
  },
  {
   "cell_type": "code",
   "execution_count": 15,
   "metadata": {},
   "outputs": [
    {
     "name": "stdout",
     "output_type": "stream",
     "text": [
      "<class 'pandas.core.frame.DataFrame'>\n",
      "Int64Index: 514 entries, 25367 to 25880\n",
      "Data columns (total 8 columns):\n",
      " #   Column                          Non-Null Count  Dtype   \n",
      "---  ------                          --------------  -----   \n",
      " 0   location_name                   514 non-null    category\n",
      " 1   hosp_data_type                  514 non-null    category\n",
      " 2   deaths_data_type                514 non-null    category\n",
      " 3   mobility_data_type              514 non-null    category\n",
      " 4   total_tests_data_type           514 non-null    category\n",
      " 5   confirmed_infections_data_type  514 non-null    category\n",
      " 6   est_infections_data_type        514 non-null    category\n",
      " 7   seroprev_data_type              514 non-null    category\n",
      "dtypes: category(8)\n",
      "memory usage: 9.0 KB\n"
     ]
    }
   ],
   "source": [
    "df_ref_hos_ger[qualitative].info()"
   ]
  },
  {
   "cell_type": "code",
   "execution_count": 16,
   "metadata": {},
   "outputs": [],
   "source": [
    "for col in quantitative:\n",
    "    if df_ref_hos_ger[col].isna().any():\n",
    "        df_ref_hos_ger[col]=df_ref_hos_ger[col].fillna(0)\n"
   ]
  },
  {
   "cell_type": "code",
   "execution_count": 17,
   "metadata": {},
   "outputs": [
    {
     "data": {
      "text/plain": [
       "[]"
      ]
     },
     "execution_count": 17,
     "metadata": {},
     "output_type": "execute_result"
    }
   ],
   "source": [
    "  df_ref_hos_ger[quantitative].columns[df_ref_hos_ger[quantitative].isna().any()].tolist()"
   ]
  },
  {
   "cell_type": "markdown",
   "metadata": {},
   "source": [
    "As Colums I need for the deaths:\n",
    "- date\n",
    "- deaths_data_type\n",
    "- deaths_upper\n",
    "\n",
    "I need also check if the deaths_data_type have any proyection into it, because I only want the observed data"
   ]
  },
  {
   "cell_type": "code",
   "execution_count": 18,
   "metadata": {},
   "outputs": [
    {
     "data": {
      "text/plain": [
       "observed     396\n",
       "projected    118\n",
       "Name: deaths_data_type, dtype: int64"
      ]
     },
     "execution_count": 18,
     "metadata": {},
     "output_type": "execute_result"
    }
   ],
   "source": [
    "df_ref_hos_ger['deaths_data_type'].value_counts()"
   ]
  },
  {
   "cell_type": "markdown",
   "metadata": {},
   "source": [
    "As it has projected data, I will filter it more deeply to have only the observed data"
   ]
  },
  {
   "cell_type": "code",
   "execution_count": 19,
   "metadata": {},
   "outputs": [
    {
     "name": "stdout",
     "output_type": "stream",
     "text": [
      "observed     396\n",
      "projected      0\n",
      "Name: deaths_data_type, dtype: int64\n",
      "The lates date is: 05 March 2021\n"
     ]
    }
   ],
   "source": [
    "df_ref_hos_ger_obs=df_ref_hos_ger[df_ref_hos_ger['deaths_data_type']=='observed']\n",
    "print(df_ref_hos_ger_obs['deaths_data_type'].value_counts())\n",
    "max_date=df_ref_hos_ger_obs['date'].max()\n",
    "print(f'The lates date is: {max_date:%d %B %Y}')"
   ]
  },
  {
   "cell_type": "markdown",
   "metadata": {},
   "source": [
    "As it the DataFrame only have observed data, we can call the function to draw a lineplot"
   ]
  },
  {
   "cell_type": "code",
   "execution_count": 20,
   "metadata": {
    "scrolled": true
   },
   "outputs": [
    {
     "data": {
      "image/png": "[encoded data removed]",
      "text/plain": [
       "<Figure size 720x360 with 1 Axes>"
      ]
     },
     "metadata": {
      "needs_background": "light"
     },
     "output_type": "display_data"
    }
   ],
   "source": [
    "lineplot_func(data=df_ref_hos_ger_obs,x='date',y='deaths_upper',title='Deaths Germany')"
   ]
  },
  {
   "cell_type": "markdown",
   "metadata": {},
   "source": [
    "Columns I need for the hospitalization:\n",
    "- hosp_data_type\n",
    "- allbed_upper -> Beds for Covid needed per day\n",
    "- ICUbed_upper -> Beds for intensive care of Covid needed per day (ICU=Intensive Care Unit)\n",
    "- InvVen_upper -> Upper uncertainty bound if invasive ventilation needed by day\n",
    "- total_tests\n",
    "- Confirmed_infections"
   ]
  },
  {
   "cell_type": "code",
   "execution_count": 21,
   "metadata": {},
   "outputs": [
    {
     "data": {
      "image/png": "[encoded data removed]",
      "text/plain": [
       "<Figure size 432x648 with 6 Axes>"
      ]
     },
     "metadata": {
      "needs_background": "light"
     },
     "output_type": "display_data"
    }
   ],
   "source": [
    "#Using melt for a tidy DataFrame which is more usable for FacetGrid\n",
    "\n",
    "f=pd.melt(df_ref_hos_ger_obs\n",
    "          ,value_vars=['allbed_upper'\n",
    "                       ,'ICUbed_upper'\n",
    "                       ,'InvVen_upper'\n",
    "                       ,'total_tests'\n",
    "                       ,'confirmed_infections'\n",
    "                       ,'deaths_upper'\n",
    "                      ]\n",
    "          ,id_vars='date'\n",
    "         )\n",
    "\n",
    "\n",
    "\n",
    "#Plot the FacetGrid\n",
    "g=sns.FacetGrid(f,col='variable',sharex=False,sharey=False,col_wrap=2)\n",
    "g=g.map(sns.lineplot,'date','value')\n",
    "\n",
    "#Change the title of the Subplots\n",
    "axes=g.axes.flatten()\n",
    "axes[0].set_title('Bed usage per day')\n",
    "axes[1].set_title('Intesive care units per day')\n",
    "axes[2].set_title('Invasive ventilation per day')\n",
    "axes[3].set_title('Total tests per day')\n",
    "axes[4].set_title('Confirmed infections per day')\n",
    "axes[5].set_title('Total deaths per day')\n",
    "\n",
    "#Make some annotation for better readibility\n",
    "###ATENTION! Don´t repeat yourself. Try to do this in a loop.\n",
    "#And further you can put that loop into a funcion to use it later on other data\n",
    "axes[4].annotate('Last score: {}'.format(np.around(df_ref_hos_ger_obs['confirmed_infections'].iloc[-1])),\n",
    "                 xy=[\n",
    "                     df_ref_hos_ger_obs['date'].iloc[-1],\n",
    "                     np.around(df_ref_hos_ger_obs['confirmed_infections'].iloc[-1])\n",
    "                     ],\n",
    "                arrowprops={'arrowstyle':'->','color':'red'},\n",
    "                xytext=('2020-01-30',df_ref_hos_ger_obs['confirmed_infections'].iloc[-1])\n",
    "                )\n",
    "\n",
    "axes[5].annotate('Last score: {}'.format(np.around(df_ref_hos_ger_obs['deaths_upper'].iloc[-1])),\n",
    "                 xy=[\n",
    "                     df_ref_hos_ger_obs['date'].iloc[-1],\n",
    "                     np.around(df_ref_hos_ger_obs['deaths_upper'].iloc[-1])\n",
    "                     ],\n",
    "                arrowprops={'arrowstyle':'->','color':'red'},\n",
    "                xytext=('2020-01-30',df_ref_hos_ger_obs['deaths_upper'].iloc[-1])\n",
    "                )\n",
    "\n",
    "\n",
    "#Define the peaks of eacht plot\n",
    "\n",
    "axes[4].annotate('Peak: {}'.format(np.around(df_ref_hos_ger_obs['confirmed_infections'].max())),\n",
    "                 xy=[df_ref_hos_ger_obs['date'][df_ref_hos_ger_obs['confirmed_infections']==df_ref_hos_ger_obs['confirmed_infections'].max()],\n",
    "                 np.around(df_ref_hos_ger_obs['confirmed_infections'].max())  \n",
    "                 ],\n",
    "                arrowprops={'arrowstyle':'->','color':'purple'},\n",
    "                xytext=('2020-01-30',df_ref_hos_ger_obs['confirmed_infections'].max())\n",
    "                )\n",
    "\n",
    "axes[5].annotate('Peak: {}'.format(np.around(df_ref_hos_ger_obs['deaths_upper'].max())),\n",
    "                 xy=[df_ref_hos_ger_obs['date'][df_ref_hos_ger_obs['deaths_upper']==df_ref_hos_ger_obs['deaths_upper'].max()],\n",
    "                     np.around(df_ref_hos_ger_obs['deaths_upper'].max())\n",
    "                     ],\n",
    "                arrowprops={'arrowstyle':'->','color':'purple'},\n",
    "                xytext=('2020-01-30',df_ref_hos_ger_obs['deaths_upper'].max())\n",
    "                )\n",
    "\n",
    "\n",
    "#Change the overall Title and also the x and y axis title on each Subplot. Adjust also the width and the high\n",
    "g.fig.suptitle('Hospitals Workload from {}'.format(max(df_ref_hos_ger_obs['date'])),y=1.07)\n",
    "g.set(xlabel='date',ylabel='quantity')\n",
    "plt.subplots_adjust(hspace=1, wspace=0.4)\n",
    "\n",
    "\n",
    "#Rotate the x-axis by 90 degree\n",
    "for ax in g.axes.flat:\n",
    "    for label in ax.get_xticklabels():\n",
    "        label.set_rotation(90)"
   ]
  },
  {
   "cell_type": "markdown",
   "metadata": {},
   "source": [
    "To Improve: Don't repeat yourself, the x-axis on the peak annotation is worng at maximum, becuase the date on the x axis is there where the y axis is max"
   ]
  },
  {
   "cell_type": "markdown",
   "metadata": {},
   "source": [
    "Number of positive & negative cases per day ----- This would have helped you to compare & find correlation between positive Diagnosed and deaths/recovered. it's called \"Fatality ratio\" -  It is the ratio of total dead to the total positive case (per day or week) \n",
    "\n",
    "\n",
    "\"Hospitalization ratio\" -It is the ratio of total hospitalized (all cases admitted to hospital) to the total positive cases. \n",
    "\n",
    "\n",
    "\"Positive case ratio\"- It is the ratio of total positive cases to the total number of tests (number of patients appeared for covid test every day/week) \n",
    "\n",
    "Date of hospitalization & recovered/discharged date - this would have helped in finding/analysing the number of days taken by a patient to recover from covid infection - questions like - which gender has speedy recovery capability ? - what age group patient has speedy recovery capability?\n"
   ]
  },
  {
   "cell_type": "markdown",
   "metadata": {},
   "source": [
    "## Vaccanations\n"
   ]
  },
  {
   "cell_type": "code",
   "execution_count": 22,
   "metadata": {},
   "outputs": [],
   "source": [
    "vac=pd.read_excel(path+str('/Vaccanations.xlsx'),sheet_name=3)\n",
    "vac_headers=['Date','FirstVaccanations','SecoundVaccanations','TotalVaccanations']\n",
    "vac.drop(vac.tail(3).index,inplace=True)\n",
    "vac.columns=vac_headers"
   ]
  },
  {
   "cell_type": "code",
   "execution_count": 23,
   "metadata": {},
   "outputs": [],
   "source": [
    "vac['Date']=pd.to_datetime(vac['Date'])\n",
    "vac.set_index('Date',inplace=True)\n"
   ]
  },
  {
   "cell_type": "code",
   "execution_count": 24,
   "metadata": {},
   "outputs": [
    {
     "name": "stdout",
     "output_type": "stream",
     "text": [
      "<class 'pandas.core.frame.DataFrame'>\n",
      "DatetimeIndex: 74 entries, 2020-12-27 to 2021-03-10\n",
      "Data columns (total 3 columns):\n",
      " #   Column               Non-Null Count  Dtype  \n",
      "---  ------               --------------  -----  \n",
      " 0   FirstVaccanations    74 non-null     float64\n",
      " 1   SecoundVaccanations  74 non-null     float64\n",
      " 2   TotalVaccanations    74 non-null     float64\n",
      "dtypes: float64(3)\n",
      "memory usage: 2.3 KB\n"
     ]
    }
   ],
   "source": [
    "vac.info()"
   ]
  },
  {
   "cell_type": "code",
   "execution_count": 25,
   "metadata": {},
   "outputs": [],
   "source": [
    "#infections_cum=df_ref_hos_ger_obs[['date','confirmed_infections']].groupby(by=df_ref_hos_ger_obs['date']).agg('cumsum')\n",
    "#infections_cum\n",
    "\n",
    "infecctions_cum=df_ref_hos_ger_obs.set_index('date')\n",
    "\n",
    "infecctions_cum=infecctions_cum['confirmed_infections'].cumsum()\n"
   ]
  },
  {
   "cell_type": "code",
   "execution_count": 26,
   "metadata": {},
   "outputs": [
    {
     "data": {
      "text/plain": [
       "Text(0.5, 1.0, 'Confirmed Infections vs. Vaccanations per day')"
      ]
     },
     "execution_count": 26,
     "metadata": {},
     "output_type": "execute_result"
    },
    {
     "data": {
      "image/png": "[encoded data removed]",
      "text/plain": [
       "<Figure size 1080x720 with 4 Axes>"
      ]
     },
     "metadata": {
      "needs_background": "light"
     },
     "output_type": "display_data"
    }
   ],
   "source": [
    "#create the subplots (2x2)\n",
    "fig,ax=plt.subplots(2,2,figsize=(15,10))\n",
    "fig.suptitle('Overview Infections and Vaccanations',fontsize=16,\n",
    "            fontweight='bold',\n",
    "            color='darkgrey')\n",
    "#Assign subplot 1 of 4\n",
    "ax1=ax[0,0]\n",
    "ax1.plot(df_ref_hos_ger_obs['date'],\n",
    "         df_ref_hos_ger_obs['confirmed_infections'],\n",
    "         color='red'\n",
    "        )\n",
    "\n",
    "ax1.axvspan(datetime.date(2020,1,1),\n",
    "            datetime.date(2020,12,31),\n",
    "            color='grey',alpha=.5\n",
    "           )\n",
    "ax1.text(x=datetime.date(2020,10,15),\n",
    "         y=df_ref_hos_ger_obs['confirmed_infections'].max(),\n",
    "         s='2020',\n",
    "         color='white',\n",
    "         fontsize='xx-large',\n",
    "         fontweight='bold'\n",
    "        )\n",
    "ax1.text(x=datetime.date(2021,1,15),\n",
    "         y=df_ref_hos_ger_obs['confirmed_infections'].max(),\n",
    "         s='2021',\n",
    "         color='orange',\n",
    "         fontsize='xx-large',\n",
    "         fontweight='bold'\n",
    "        )\n",
    "ax1.set_title(label='Confirmed Infections',\n",
    "              fontdict={'fontsize':16,'color':'darkgrey','fontweight':'bold'}\n",
    "             )\n",
    "\n",
    "#Assign subplot 2 of 4\n",
    "ax2=ax[0,1]\n",
    "ax2.plot(infecctions_cum,color='red')\n",
    "ax2.axvspan(datetime.date(2020,1,1),\n",
    "            datetime.date(2020,12,31),\n",
    "            color='grey',\n",
    "            alpha=.5\n",
    "           )\n",
    "\n",
    "ax2.text(x=datetime.date(2020,10,15),\n",
    "         y=infecctions_cum.max(),\n",
    "         s='2020',\n",
    "         color='white',\n",
    "         fontsize='xx-large',\n",
    "         fontweight='bold'\n",
    "        )\n",
    "\n",
    "ax2.text(x=datetime.date(2021,1,15),\n",
    "         y=infecctions_cum.max(),\n",
    "         s='2021',color='orange',\n",
    "         fontsize='xx-large',\n",
    "         fontweight='bold')\n",
    "\n",
    "ax2.set_title(label='Cumulated Infections',\n",
    "              fontdict={'fontsize':16,'color':'darkgrey','fontweight':'bold'}\n",
    "             )\n",
    "\n",
    "#Assign subplot 3 of 4\n",
    "ax3=ax[1,0]\n",
    "ax3.plot(vac.index,\n",
    "         vac['TotalVaccanations'],\n",
    "         color='green'\n",
    "        )\n",
    "\n",
    "ax3.axvspan(datetime.date(2020,1,1),\n",
    "            datetime.date(2020,12,31),\n",
    "            color='grey',\n",
    "            alpha=.5\n",
    "           )\n",
    "\n",
    "ax3.text(x=datetime.date(2020,10,15),\n",
    "         y=vac['TotalVaccanations'].max(),\n",
    "         s='2020',\n",
    "         color='white',\n",
    "         fontsize='xx-large',\n",
    "         fontweight='bold'\n",
    "        )\n",
    "\n",
    "ax3.text(x=datetime.date(2021,1,1),\n",
    "         y=vac['TotalVaccanations'].max(),\n",
    "         s='2021',\n",
    "         color='orange',\n",
    "         fontsize='xx-large',\n",
    "         fontweight='bold'\n",
    "        )\n",
    "\n",
    "ax3.set_title(label='Vaccanations per day',\n",
    "              fontdict={'fontsize':16,'color':'darkgrey','fontweight':'bold'}\n",
    "             )\n",
    "\n",
    "#Assign subplot 4 of 4\n",
    "ax4=ax[1,1]\n",
    "ax4.plot(df_ref_hos_ger_obs['date'],\n",
    "         df_ref_hos_ger_obs['confirmed_infections'],\n",
    "         color='red'\n",
    "        )\n",
    "ax4.plot(vac.index,vac['TotalVaccanations'],\n",
    "         color='green'\n",
    "        )\n",
    "\n",
    "ax4.axvspan(datetime.date(2020,1,1),\n",
    "            datetime.date(2020,12,31),\n",
    "            color='grey',\n",
    "            alpha=.5\n",
    "           )\n",
    "\n",
    "ax4.text(x=datetime.date(2020,10,15),\n",
    "         y=vac['TotalVaccanations'].max(),\n",
    "         s='2020',\n",
    "         color='white',\n",
    "         fontsize='xx-large',\n",
    "         fontweight='bold'\n",
    "        )\n",
    "\n",
    "ax4.text(x=datetime.date(2021,1,1),\n",
    "         y=vac['TotalVaccanations'].max(),\n",
    "         s='2021',\n",
    "         color='orange',\n",
    "         fontsize='xx-large',\n",
    "         fontweight='bold'\n",
    "        )\n",
    "\n",
    "ax4.set_title(label='Confirmed Infections vs. Vaccanations per day',\n",
    "              fontdict={'fontsize':16,'color':'darkgrey','fontweight':'bold'}\n",
    "             )\n",
    "\n",
    "\n",
    "#plt.xticks(rotation=90)\n",
    "#for tick in ax:\n",
    " #   plt.xticks(rotation=90)\n",
    "\n"
   ]
  },
  {
   "cell_type": "code",
   "execution_count": 27,
   "metadata": {},
   "outputs": [],
   "source": [
    "#ineplot_func(data=df_ref_hos_ger_obs,x='date',y='deaths_upper',title='Deaths Germany')\n",
    "#df_ref_hos_ger_obs.info()"
   ]
  },
  {
   "cell_type": "code",
   "execution_count": 28,
   "metadata": {},
   "outputs": [
    {
     "data": {
      "text/html": [
       "<div>\n",
       "<style scoped>\n",
       "    .dataframe tbody tr th:only-of-type {\n",
       "        vertical-align: middle;\n",
       "    }\n",
       "\n",
       "    .dataframe tbody tr th {\n",
       "        vertical-align: top;\n",
       "    }\n",
       "\n",
       "    .dataframe thead th {\n",
       "        text-align: right;\n",
       "    }\n",
       "</style>\n",
       "<table border=\"1\" class=\"dataframe\">\n",
       "  <thead>\n",
       "    <tr style=\"text-align: right;\">\n",
       "      <th></th>\n",
       "      <th>variable</th>\n",
       "      <th>value</th>\n",
       "    </tr>\n",
       "  </thead>\n",
       "  <tbody>\n",
       "    <tr>\n",
       "      <th>0</th>\n",
       "      <td>TotalDeaths</td>\n",
       "      <td>71504.0</td>\n",
       "    </tr>\n",
       "    <tr>\n",
       "      <th>1</th>\n",
       "      <td>TotalInfec</td>\n",
       "      <td>2482141.0</td>\n",
       "    </tr>\n",
       "    <tr>\n",
       "      <th>2</th>\n",
       "      <td>TotalVac</td>\n",
       "      <td>8447309.0</td>\n",
       "    </tr>\n",
       "  </tbody>\n",
       "</table>\n",
       "</div>"
      ],
      "text/plain": [
       "      variable      value\n",
       "0  TotalDeaths    71504.0\n",
       "1   TotalInfec  2482141.0\n",
       "2     TotalVac  8447309.0"
      ]
     },
     "execution_count": 28,
     "metadata": {},
     "output_type": "execute_result"
    }
   ],
   "source": [
    "#Erstelle einen Scatterplot als Blasen und lass die Infizierten, toten und geimpften miteinander vergleichen\n",
    "total_vac=sum(vac['TotalVaccanations'])\n",
    "total_infec=sum(df_ref_hos_ger_obs['confirmed_infections'])\n",
    "total_deaths=sum(df_ref_hos_ger_obs['deaths_upper'])\n",
    "\n",
    "dic_scatter={'TotalVac':[total_vac],\n",
    "             'TotalInfec':[total_infec],\n",
    "             'TotalDeaths':[total_deaths]\n",
    "            }\n",
    "\n",
    "df_scatter=pd.DataFrame.from_dict(data=dic_scatter)\n",
    "df_scatter\n",
    "df_scatter_melt=pd.melt(frame=df_scatter,value_vars=['TotalDeaths','TotalInfec','TotalVac'])\n",
    "df_scatter_melt\n",
    "#sns.scatterplot(data=df_scatter,x='value')"
   ]
  },
  {
   "cell_type": "code",
   "execution_count": 40,
   "metadata": {},
   "outputs": [
    {
     "data": {
      "text/html": [
       "<div>\n",
       "<style scoped>\n",
       "    .dataframe tbody tr th:only-of-type {\n",
       "        vertical-align: middle;\n",
       "    }\n",
       "\n",
       "    .dataframe tbody tr th {\n",
       "        vertical-align: top;\n",
       "    }\n",
       "\n",
       "    .dataframe thead th {\n",
       "        text-align: right;\n",
       "    }\n",
       "</style>\n",
       "<table border=\"1\" class=\"dataframe\">\n",
       "  <thead>\n",
       "    <tr style=\"text-align: right;\">\n",
       "      <th></th>\n",
       "      <th>value</th>\n",
       "      <th>variable_TotalDeaths</th>\n",
       "      <th>variable_TotalInfec</th>\n",
       "      <th>variable_TotalVac</th>\n",
       "    </tr>\n",
       "  </thead>\n",
       "  <tbody>\n",
       "    <tr>\n",
       "      <th>0</th>\n",
       "      <td>71504.0</td>\n",
       "      <td>1</td>\n",
       "      <td>0</td>\n",
       "      <td>0</td>\n",
       "    </tr>\n",
       "    <tr>\n",
       "      <th>1</th>\n",
       "      <td>2482141.0</td>\n",
       "      <td>0</td>\n",
       "      <td>1</td>\n",
       "      <td>0</td>\n",
       "    </tr>\n",
       "    <tr>\n",
       "      <th>2</th>\n",
       "      <td>8447309.0</td>\n",
       "      <td>0</td>\n",
       "      <td>0</td>\n",
       "      <td>1</td>\n",
       "    </tr>\n",
       "  </tbody>\n",
       "</table>\n",
       "</div>"
      ],
      "text/plain": [
       "       value  variable_TotalDeaths  variable_TotalInfec  variable_TotalVac\n",
       "0    71504.0                     1                    0                  0\n",
       "1  2482141.0                     0                    1                  0\n",
       "2  8447309.0                     0                    0                  1"
      ]
     },
     "execution_count": 40,
     "metadata": {},
     "output_type": "execute_result"
    }
   ],
   "source": [
    "encoded_df_scatter_melt=pd.get_dummies(data=df_scatter_melt,\n",
    "                                       columns=['variable']\n",
    "                                      )\n",
    "encoded_df_scatter_melt"
   ]
  },
  {
   "cell_type": "code",
   "execution_count": 54,
   "metadata": {},
   "outputs": [
    {
     "data": {
      "text/plain": [
       "<AxesSubplot:ylabel='value'>"
      ]
     },
     "execution_count": 54,
     "metadata": {},
     "output_type": "execute_result"
    },
    {
     "data": {
      "image/png": "[encoded data removed]",
      "text/plain": [
       "<Figure size 432x288 with 1 Axes>"
      ]
     },
     "metadata": {
      "needs_background": "light"
     },
     "output_type": "display_data"
    }
   ],
   "source": [
    "sns.scatterplot(data=encoded_df_scatter_melt,\n",
    "                x=['variable_TotalDeaths','variable_TotalInfec','variable_TotalVac'],\n",
    "               y='value',\n",
    "               size='value')"
   ]
  },
  {
   "cell_type": "code",
   "execution_count": null,
   "metadata": {},
   "outputs": [],
   "source": []
  },
  {
   "cell_type": "code",
   "execution_count": 29,
   "metadata": {},
   "outputs": [],
   "source": [
    "import plotly.graph_objects as go"
   ]
  },
  {
   "cell_type": "code",
   "execution_count": 59,
   "metadata": {},
   "outputs": [
    {
     "data": {
      "application/vnd.plotly.v1+json": {
       "config": {
        "plotlyServerURL": "https://plot.ly"
       },
       "data": [
        {
         "marker": {
          "color": [
           0,
           1,
           2
          ],
          "size": [
           40,
           60,
           80
          ]
         },
         "mode": "markers",
         "type": "scatter",
         "x": [
          1,
          2,
          3
         ],
         "y": [
          71504,
          2482140.9999999995,
          8447309
         ]
        }
       ],
       "layout": {
        "template": {
         "data": {
          "bar": [
           {
            "error_x": {
             "color": "#2a3f5f"
            },
            "error_y": {
             "color": "#2a3f5f"
            },
            "marker": {
             "line": {
              "color": "#E5ECF6",
              "width": 0.5
             }
            },
            "type": "bar"
           }
          ],
          "barpolar": [
           {
            "marker": {
             "line": {
              "color": "#E5ECF6",
              "width": 0.5
             }
            },
            "type": "barpolar"
           }
          ],
          "carpet": [
           {
            "aaxis": {
             "endlinecolor": "#2a3f5f",
             "gridcolor": "white",
             "linecolor": "white",
             "minorgridcolor": "white",
             "startlinecolor": "#2a3f5f"
            },
            "baxis": {
             "endlinecolor": "#2a3f5f",
             "gridcolor": "white",
             "linecolor": "white",
             "minorgridcolor": "white",
             "startlinecolor": "#2a3f5f"
            },
            "type": "carpet"
           }
          ],
          "choropleth": [
           {
            "colorbar": {
             "outlinewidth": 0,
             "ticks": ""
            },
            "type": "choropleth"
           }
          ],
          "contour": [
           {
            "colorbar": {
             "outlinewidth": 0,
             "ticks": ""
            },
            "colorscale": [
             [
              0,
              "#0d0887"
             ],
             [
              0.1111111111111111,
              "#46039f"
             ],
             [
              0.2222222222222222,
              "#7201a8"
             ],
             [
              0.3333333333333333,
              "#9c179e"
             ],
             [
              0.4444444444444444,
              "#bd3786"
             ],
             [
              0.5555555555555556,
              "#d8576b"
             ],
             [
              0.6666666666666666,
              "#ed7953"
             ],
             [
              0.7777777777777778,
              "#fb9f3a"
             ],
             [
              0.8888888888888888,
              "#fdca26"
             ],
             [
              1,
              "#f0f921"
             ]
            ],
            "type": "contour"
           }
          ],
          "contourcarpet": [
           {
            "colorbar": {
             "outlinewidth": 0,
             "ticks": ""
            },
            "type": "contourcarpet"
           }
          ],
          "heatmap": [
           {
            "colorbar": {
             "outlinewidth": 0,
             "ticks": ""
            },
            "colorscale": [
             [
              0,
              "#0d0887"
             ],
             [
              0.1111111111111111,
              "#46039f"
             ],
             [
              0.2222222222222222,
              "#7201a8"
             ],
             [
              0.3333333333333333,
              "#9c179e"
             ],
             [
              0.4444444444444444,
              "#bd3786"
             ],
             [
              0.5555555555555556,
              "#d8576b"
             ],
             [
              0.6666666666666666,
              "#ed7953"
             ],
             [
              0.7777777777777778,
              "#fb9f3a"
             ],
             [
              0.8888888888888888,
              "#fdca26"
             ],
             [
              1,
              "#f0f921"
             ]
            ],
            "type": "heatmap"
           }
          ],
          "heatmapgl": [
           {
            "colorbar": {
             "outlinewidth": 0,
             "ticks": ""
            },
            "colorscale": [
             [
              0,
              "#0d0887"
             ],
             [
              0.1111111111111111,
              "#46039f"
             ],
             [
              0.2222222222222222,
              "#7201a8"
             ],
             [
              0.3333333333333333,
              "#9c179e"
             ],
             [
              0.4444444444444444,
              "#bd3786"
             ],
             [
              0.5555555555555556,
              "#d8576b"
             ],
             [
              0.6666666666666666,
              "#ed7953"
             ],
             [
              0.7777777777777778,
              "#fb9f3a"
             ],
             [
              0.8888888888888888,
              "#fdca26"
             ],
             [
              1,
              "#f0f921"
             ]
            ],
            "type": "heatmapgl"
           }
          ],
          "histogram": [
           {
            "marker": {
             "colorbar": {
              "outlinewidth": 0,
              "ticks": ""
             }
            },
            "type": "histogram"
           }
          ],
          "histogram2d": [
           {
            "colorbar": {
             "outlinewidth": 0,
             "ticks": ""
            },
            "colorscale": [
             [
              0,
              "#0d0887"
             ],
             [
              0.1111111111111111,
              "#46039f"
             ],
             [
              0.2222222222222222,
              "#7201a8"
             ],
             [
              0.3333333333333333,
              "#9c179e"
             ],
             [
              0.4444444444444444,
              "#bd3786"
             ],
             [
              0.5555555555555556,
              "#d8576b"
             ],
             [
              0.6666666666666666,
              "#ed7953"
             ],
             [
              0.7777777777777778,
              "#fb9f3a"
             ],
             [
              0.8888888888888888,
              "#fdca26"
             ],
             [
              1,
              "#f0f921"
             ]
            ],
            "type": "histogram2d"
           }
          ],
          "histogram2dcontour": [
           {
            "colorbar": {
             "outlinewidth": 0,
             "ticks": ""
            },
            "colorscale": [
             [
              0,
              "#0d0887"
             ],
             [
              0.1111111111111111,
              "#46039f"
             ],
             [
              0.2222222222222222,
              "#7201a8"
             ],
             [
              0.3333333333333333,
              "#9c179e"
             ],
             [
              0.4444444444444444,
              "#bd3786"
             ],
             [
              0.5555555555555556,
              "#d8576b"
             ],
             [
              0.6666666666666666,
              "#ed7953"
             ],
             [
              0.7777777777777778,
              "#fb9f3a"
             ],
             [
              0.8888888888888888,
              "#fdca26"
             ],
             [
              1,
              "#f0f921"
             ]
            ],
            "type": "histogram2dcontour"
           }
          ],
          "mesh3d": [
           {
            "colorbar": {
             "outlinewidth": 0,
             "ticks": ""
            },
            "type": "mesh3d"
           }
          ],
          "parcoords": [
           {
            "line": {
             "colorbar": {
              "outlinewidth": 0,
              "ticks": ""
             }
            },
            "type": "parcoords"
           }
          ],
          "pie": [
           {
            "automargin": true,
            "type": "pie"
           }
          ],
          "scatter": [
           {
            "marker": {
             "colorbar": {
              "outlinewidth": 0,
              "ticks": ""
             }
            },
            "type": "scatter"
           }
          ],
          "scatter3d": [
           {
            "line": {
             "colorbar": {
              "outlinewidth": 0,
              "ticks": ""
             }
            },
            "marker": {
             "colorbar": {
              "outlinewidth": 0,
              "ticks": ""
             }
            },
            "type": "scatter3d"
           }
          ],
          "scattercarpet": [
           {
            "marker": {
             "colorbar": {
              "outlinewidth": 0,
              "ticks": ""
             }
            },
            "type": "scattercarpet"
           }
          ],
          "scattergeo": [
           {
            "marker": {
             "colorbar": {
              "outlinewidth": 0,
              "ticks": ""
             }
            },
            "type": "scattergeo"
           }
          ],
          "scattergl": [
           {
            "marker": {
             "colorbar": {
              "outlinewidth": 0,
              "ticks": ""
             }
            },
            "type": "scattergl"
           }
          ],
          "scattermapbox": [
           {
            "marker": {
             "colorbar": {
              "outlinewidth": 0,
              "ticks": ""
             }
            },
            "type": "scattermapbox"
           }
          ],
          "scatterpolar": [
           {
            "marker": {
             "colorbar": {
              "outlinewidth": 0,
              "ticks": ""
             }
            },
            "type": "scatterpolar"
           }
          ],
          "scatterpolargl": [
           {
            "marker": {
             "colorbar": {
              "outlinewidth": 0,
              "ticks": ""
             }
            },
            "type": "scatterpolargl"
           }
          ],
          "scatterternary": [
           {
            "marker": {
             "colorbar": {
              "outlinewidth": 0,
              "ticks": ""
             }
            },
            "type": "scatterternary"
           }
          ],
          "surface": [
           {
            "colorbar": {
             "outlinewidth": 0,
             "ticks": ""
            },
            "colorscale": [
             [
              0,
              "#0d0887"
             ],
             [
              0.1111111111111111,
              "#46039f"
             ],
             [
              0.2222222222222222,
              "#7201a8"
             ],
             [
              0.3333333333333333,
              "#9c179e"
             ],
             [
              0.4444444444444444,
              "#bd3786"
             ],
             [
              0.5555555555555556,
              "#d8576b"
             ],
             [
              0.6666666666666666,
              "#ed7953"
             ],
             [
              0.7777777777777778,
              "#fb9f3a"
             ],
             [
              0.8888888888888888,
              "#fdca26"
             ],
             [
              1,
              "#f0f921"
             ]
            ],
            "type": "surface"
           }
          ],
          "table": [
           {
            "cells": {
             "fill": {
              "color": "#EBF0F8"
             },
             "line": {
              "color": "white"
             }
            },
            "header": {
             "fill": {
              "color": "#C8D4E3"
             },
             "line": {
              "color": "white"
             }
            },
            "type": "table"
           }
          ]
         },
         "layout": {
          "annotationdefaults": {
           "arrowcolor": "#2a3f5f",
           "arrowhead": 0,
           "arrowwidth": 1
          },
          "autotypenumbers": "strict",
          "coloraxis": {
           "colorbar": {
            "outlinewidth": 0,
            "ticks": ""
           }
          },
          "colorscale": {
           "diverging": [
            [
             0,
             "#8e0152"
            ],
            [
             0.1,
             "#c51b7d"
            ],
            [
             0.2,
             "#de77ae"
            ],
            [
             0.3,
             "#f1b6da"
            ],
            [
             0.4,
             "#fde0ef"
            ],
            [
             0.5,
             "#f7f7f7"
            ],
            [
             0.6,
             "#e6f5d0"
            ],
            [
             0.7,
             "#b8e186"
            ],
            [
             0.8,
             "#7fbc41"
            ],
            [
             0.9,
             "#4d9221"
            ],
            [
             1,
             "#276419"
            ]
           ],
           "sequential": [
            [
             0,
             "#0d0887"
            ],
            [
             0.1111111111111111,
             "#46039f"
            ],
            [
             0.2222222222222222,
             "#7201a8"
            ],
            [
             0.3333333333333333,
             "#9c179e"
            ],
            [
             0.4444444444444444,
             "#bd3786"
            ],
            [
             0.5555555555555556,
             "#d8576b"
            ],
            [
             0.6666666666666666,
             "#ed7953"
            ],
            [
             0.7777777777777778,
             "#fb9f3a"
            ],
            [
             0.8888888888888888,
             "#fdca26"
            ],
            [
             1,
             "#f0f921"
            ]
           ],
           "sequentialminus": [
            [
             0,
             "#0d0887"
            ],
            [
             0.1111111111111111,
             "#46039f"
            ],
            [
             0.2222222222222222,
             "#7201a8"
            ],
            [
             0.3333333333333333,
             "#9c179e"
            ],
            [
             0.4444444444444444,
             "#bd3786"
            ],
            [
             0.5555555555555556,
             "#d8576b"
            ],
            [
             0.6666666666666666,
             "#ed7953"
            ],
            [
             0.7777777777777778,
             "#fb9f3a"
            ],
            [
             0.8888888888888888,
             "#fdca26"
            ],
            [
             1,
             "#f0f921"
            ]
           ]
          },
          "colorway": [
           "#636efa",
           "#EF553B",
           "#00cc96",
           "#ab63fa",
           "#FFA15A",
           "#19d3f3",
           "#FF6692",
           "#B6E880",
           "#FF97FF",
           "#FECB52"
          ],
          "font": {
           "color": "#2a3f5f"
          },
          "geo": {
           "bgcolor": "white",
           "lakecolor": "white",
           "landcolor": "#E5ECF6",
           "showlakes": true,
           "showland": true,
           "subunitcolor": "white"
          },
          "hoverlabel": {
           "align": "left"
          },
          "hovermode": "closest",
          "mapbox": {
           "style": "light"
          },
          "paper_bgcolor": "white",
          "plot_bgcolor": "#E5ECF6",
          "polar": {
           "angularaxis": {
            "gridcolor": "white",
            "linecolor": "white",
            "ticks": ""
           },
           "bgcolor": "#E5ECF6",
           "radialaxis": {
            "gridcolor": "white",
            "linecolor": "white",
            "ticks": ""
           }
          },
          "scene": {
           "xaxis": {
            "backgroundcolor": "#E5ECF6",
            "gridcolor": "white",
            "gridwidth": 2,
            "linecolor": "white",
            "showbackground": true,
            "ticks": "",
            "zerolinecolor": "white"
           },
           "yaxis": {
            "backgroundcolor": "#E5ECF6",
            "gridcolor": "white",
            "gridwidth": 2,
            "linecolor": "white",
            "showbackground": true,
            "ticks": "",
            "zerolinecolor": "white"
           },
           "zaxis": {
            "backgroundcolor": "#E5ECF6",
            "gridcolor": "white",
            "gridwidth": 2,
            "linecolor": "white",
            "showbackground": true,
            "ticks": "",
            "zerolinecolor": "white"
           }
          },
          "shapedefaults": {
           "line": {
            "color": "#2a3f5f"
           }
          },
          "ternary": {
           "aaxis": {
            "gridcolor": "white",
            "linecolor": "white",
            "ticks": ""
           },
           "baxis": {
            "gridcolor": "white",
            "linecolor": "white",
            "ticks": ""
           },
           "bgcolor": "#E5ECF6",
           "caxis": {
            "gridcolor": "white",
            "linecolor": "white",
            "ticks": ""
           }
          },
          "title": {
           "x": 0.05
          },
          "xaxis": {
           "automargin": true,
           "gridcolor": "white",
           "linecolor": "white",
           "ticks": "",
           "title": {
            "standoff": 15
           },
           "zerolinecolor": "white",
           "zerolinewidth": 2
          },
          "yaxis": {
           "automargin": true,
           "gridcolor": "white",
           "linecolor": "white",
           "ticks": "",
           "title": {
            "standoff": 15
           },
           "zerolinecolor": "white",
           "zerolinewidth": 2
          }
         }
        }
       }
      },
      "text/html": [
       "<div>                            <div id=\"18c3e878-71dd-4f44-a59a-3c06859bcaa2\" class=\"plotly-graph-div\" style=\"height:525px; width:100%;\"></div>            <script type=\"text/javascript\">                require([\"plotly\"], function(Plotly) {                    window.PLOTLYENV=window.PLOTLYENV || {};                                    if (document.getElementById(\"18c3e878-71dd-4f44-a59a-3c06859bcaa2\")) {                    Plotly.newPlot(                        \"18c3e878-71dd-4f44-a59a-3c06859bcaa2\",                        [{\"marker\": {\"color\": [0, 1, 2], \"size\": [40, 60, 80]}, \"mode\": \"markers\", \"type\": \"scatter\", \"x\": [1, 2, 3], \"y\": [71504.0, 2482140.9999999995, 8447309.0]}],                        {\"template\": {\"data\": {\"bar\": [{\"error_x\": {\"color\": \"#2a3f5f\"}, \"error_y\": {\"color\": \"#2a3f5f\"}, \"marker\": {\"line\": {\"color\": \"#E5ECF6\", \"width\": 0.5}}, \"type\": \"bar\"}], \"barpolar\": [{\"marker\": {\"line\": {\"color\": \"#E5ECF6\", \"width\": 0.5}}, \"type\": \"barpolar\"}], \"carpet\": [{\"aaxis\": {\"endlinecolor\": \"#2a3f5f\", \"gridcolor\": \"white\", \"linecolor\": \"white\", \"minorgridcolor\": \"white\", \"startlinecolor\": \"#2a3f5f\"}, \"baxis\": {\"endlinecolor\": \"#2a3f5f\", \"gridcolor\": \"white\", \"linecolor\": \"white\", \"minorgridcolor\": \"white\", \"startlinecolor\": \"#2a3f5f\"}, \"type\": \"carpet\"}], \"choropleth\": [{\"colorbar\": {\"outlinewidth\": 0, \"ticks\": \"\"}, \"type\": \"choropleth\"}], \"contour\": [{\"colorbar\": {\"outlinewidth\": 0, \"ticks\": \"\"}, \"colorscale\": [[0.0, \"#0d0887\"], [0.1111111111111111, \"#46039f\"], [0.2222222222222222, \"#7201a8\"], [0.3333333333333333, \"#9c179e\"], [0.4444444444444444, \"#bd3786\"], [0.5555555555555556, \"#d8576b\"], [0.6666666666666666, \"#ed7953\"], [0.7777777777777778, \"#fb9f3a\"], [0.8888888888888888, \"#fdca26\"], [1.0, \"#f0f921\"]], \"type\": \"contour\"}], \"contourcarpet\": [{\"colorbar\": {\"outlinewidth\": 0, \"ticks\": \"\"}, \"type\": \"contourcarpet\"}], \"heatmap\": [{\"colorbar\": {\"outlinewidth\": 0, \"ticks\": \"\"}, \"colorscale\": [[0.0, \"#0d0887\"], [0.1111111111111111, \"#46039f\"], [0.2222222222222222, \"#7201a8\"], [0.3333333333333333, \"#9c179e\"], [0.4444444444444444, \"#bd3786\"], [0.5555555555555556, \"#d8576b\"], [0.6666666666666666, \"#ed7953\"], [0.7777777777777778, \"#fb9f3a\"], [0.8888888888888888, \"#fdca26\"], [1.0, \"#f0f921\"]], \"type\": \"heatmap\"}], \"heatmapgl\": [{\"colorbar\": {\"outlinewidth\": 0, \"ticks\": \"\"}, \"colorscale\": [[0.0, \"#0d0887\"], [0.1111111111111111, \"#46039f\"], [0.2222222222222222, \"#7201a8\"], [0.3333333333333333, \"#9c179e\"], [0.4444444444444444, \"#bd3786\"], [0.5555555555555556, \"#d8576b\"], [0.6666666666666666, \"#ed7953\"], [0.7777777777777778, \"#fb9f3a\"], [0.8888888888888888, \"#fdca26\"], [1.0, \"#f0f921\"]], \"type\": \"heatmapgl\"}], \"histogram\": [{\"marker\": {\"colorbar\": {\"outlinewidth\": 0, \"ticks\": \"\"}}, \"type\": \"histogram\"}], \"histogram2d\": [{\"colorbar\": {\"outlinewidth\": 0, \"ticks\": \"\"}, \"colorscale\": [[0.0, \"#0d0887\"], [0.1111111111111111, \"#46039f\"], [0.2222222222222222, \"#7201a8\"], [0.3333333333333333, \"#9c179e\"], [0.4444444444444444, \"#bd3786\"], [0.5555555555555556, \"#d8576b\"], [0.6666666666666666, \"#ed7953\"], [0.7777777777777778, \"#fb9f3a\"], [0.8888888888888888, \"#fdca26\"], [1.0, \"#f0f921\"]], \"type\": \"histogram2d\"}], \"histogram2dcontour\": [{\"colorbar\": {\"outlinewidth\": 0, \"ticks\": \"\"}, \"colorscale\": [[0.0, \"#0d0887\"], [0.1111111111111111, \"#46039f\"], [0.2222222222222222, \"#7201a8\"], [0.3333333333333333, \"#9c179e\"], [0.4444444444444444, \"#bd3786\"], [0.5555555555555556, \"#d8576b\"], [0.6666666666666666, \"#ed7953\"], [0.7777777777777778, \"#fb9f3a\"], [0.8888888888888888, \"#fdca26\"], [1.0, \"#f0f921\"]], \"type\": \"histogram2dcontour\"}], \"mesh3d\": [{\"colorbar\": {\"outlinewidth\": 0, \"ticks\": \"\"}, \"type\": \"mesh3d\"}], \"parcoords\": [{\"line\": {\"colorbar\": {\"outlinewidth\": 0, \"ticks\": \"\"}}, \"type\": \"parcoords\"}], \"pie\": [{\"automargin\": true, \"type\": \"pie\"}], \"scatter\": [{\"marker\": {\"colorbar\": {\"outlinewidth\": 0, \"ticks\": \"\"}}, \"type\": \"scatter\"}], \"scatter3d\": [{\"line\": {\"colorbar\": {\"outlinewidth\": 0, \"ticks\": \"\"}}, \"marker\": {\"colorbar\": {\"outlinewidth\": 0, \"ticks\": \"\"}}, \"type\": \"scatter3d\"}], \"scattercarpet\": [{\"marker\": {\"colorbar\": {\"outlinewidth\": 0, \"ticks\": \"\"}}, \"type\": \"scattercarpet\"}], \"scattergeo\": [{\"marker\": {\"colorbar\": {\"outlinewidth\": 0, \"ticks\": \"\"}}, \"type\": \"scattergeo\"}], \"scattergl\": [{\"marker\": {\"colorbar\": {\"outlinewidth\": 0, \"ticks\": \"\"}}, \"type\": \"scattergl\"}], \"scattermapbox\": [{\"marker\": {\"colorbar\": {\"outlinewidth\": 0, \"ticks\": \"\"}}, \"type\": \"scattermapbox\"}], \"scatterpolar\": [{\"marker\": {\"colorbar\": {\"outlinewidth\": 0, \"ticks\": \"\"}}, \"type\": \"scatterpolar\"}], \"scatterpolargl\": [{\"marker\": {\"colorbar\": {\"outlinewidth\": 0, \"ticks\": \"\"}}, \"type\": \"scatterpolargl\"}], \"scatterternary\": [{\"marker\": {\"colorbar\": {\"outlinewidth\": 0, \"ticks\": \"\"}}, \"type\": \"scatterternary\"}], \"surface\": [{\"colorbar\": {\"outlinewidth\": 0, \"ticks\": \"\"}, \"colorscale\": [[0.0, \"#0d0887\"], [0.1111111111111111, \"#46039f\"], [0.2222222222222222, \"#7201a8\"], [0.3333333333333333, \"#9c179e\"], [0.4444444444444444, \"#bd3786\"], [0.5555555555555556, \"#d8576b\"], [0.6666666666666666, \"#ed7953\"], [0.7777777777777778, \"#fb9f3a\"], [0.8888888888888888, \"#fdca26\"], [1.0, \"#f0f921\"]], \"type\": \"surface\"}], \"table\": [{\"cells\": {\"fill\": {\"color\": \"#EBF0F8\"}, \"line\": {\"color\": \"white\"}}, \"header\": {\"fill\": {\"color\": \"#C8D4E3\"}, \"line\": {\"color\": \"white\"}}, \"type\": \"table\"}]}, \"layout\": {\"annotationdefaults\": {\"arrowcolor\": \"#2a3f5f\", \"arrowhead\": 0, \"arrowwidth\": 1}, \"autotypenumbers\": \"strict\", \"coloraxis\": {\"colorbar\": {\"outlinewidth\": 0, \"ticks\": \"\"}}, \"colorscale\": {\"diverging\": [[0, \"#8e0152\"], [0.1, \"#c51b7d\"], [0.2, \"#de77ae\"], [0.3, \"#f1b6da\"], [0.4, \"#fde0ef\"], [0.5, \"#f7f7f7\"], [0.6, \"#e6f5d0\"], [0.7, \"#b8e186\"], [0.8, \"#7fbc41\"], [0.9, \"#4d9221\"], [1, \"#276419\"]], \"sequential\": [[0.0, \"#0d0887\"], [0.1111111111111111, \"#46039f\"], [0.2222222222222222, \"#7201a8\"], [0.3333333333333333, \"#9c179e\"], [0.4444444444444444, \"#bd3786\"], [0.5555555555555556, \"#d8576b\"], [0.6666666666666666, \"#ed7953\"], [0.7777777777777778, \"#fb9f3a\"], [0.8888888888888888, \"#fdca26\"], [1.0, \"#f0f921\"]], \"sequentialminus\": [[0.0, \"#0d0887\"], [0.1111111111111111, \"#46039f\"], [0.2222222222222222, \"#7201a8\"], [0.3333333333333333, \"#9c179e\"], [0.4444444444444444, \"#bd3786\"], [0.5555555555555556, \"#d8576b\"], [0.6666666666666666, \"#ed7953\"], [0.7777777777777778, \"#fb9f3a\"], [0.8888888888888888, \"#fdca26\"], [1.0, \"#f0f921\"]]}, \"colorway\": [\"#636efa\", \"#EF553B\", \"#00cc96\", \"#ab63fa\", \"#FFA15A\", \"#19d3f3\", \"#FF6692\", \"#B6E880\", \"#FF97FF\", \"#FECB52\"], \"font\": {\"color\": \"#2a3f5f\"}, \"geo\": {\"bgcolor\": \"white\", \"lakecolor\": \"white\", \"landcolor\": \"#E5ECF6\", \"showlakes\": true, \"showland\": true, \"subunitcolor\": \"white\"}, \"hoverlabel\": {\"align\": \"left\"}, \"hovermode\": \"closest\", \"mapbox\": {\"style\": \"light\"}, \"paper_bgcolor\": \"white\", \"plot_bgcolor\": \"#E5ECF6\", \"polar\": {\"angularaxis\": {\"gridcolor\": \"white\", \"linecolor\": \"white\", \"ticks\": \"\"}, \"bgcolor\": \"#E5ECF6\", \"radialaxis\": {\"gridcolor\": \"white\", \"linecolor\": \"white\", \"ticks\": \"\"}}, \"scene\": {\"xaxis\": {\"backgroundcolor\": \"#E5ECF6\", \"gridcolor\": \"white\", \"gridwidth\": 2, \"linecolor\": \"white\", \"showbackground\": true, \"ticks\": \"\", \"zerolinecolor\": \"white\"}, \"yaxis\": {\"backgroundcolor\": \"#E5ECF6\", \"gridcolor\": \"white\", \"gridwidth\": 2, \"linecolor\": \"white\", \"showbackground\": true, \"ticks\": \"\", \"zerolinecolor\": \"white\"}, \"zaxis\": {\"backgroundcolor\": \"#E5ECF6\", \"gridcolor\": \"white\", \"gridwidth\": 2, \"linecolor\": \"white\", \"showbackground\": true, \"ticks\": \"\", \"zerolinecolor\": \"white\"}}, \"shapedefaults\": {\"line\": {\"color\": \"#2a3f5f\"}}, \"ternary\": {\"aaxis\": {\"gridcolor\": \"white\", \"linecolor\": \"white\", \"ticks\": \"\"}, \"baxis\": {\"gridcolor\": \"white\", \"linecolor\": \"white\", \"ticks\": \"\"}, \"bgcolor\": \"#E5ECF6\", \"caxis\": {\"gridcolor\": \"white\", \"linecolor\": \"white\", \"ticks\": \"\"}}, \"title\": {\"x\": 0.05}, \"xaxis\": {\"automargin\": true, \"gridcolor\": \"white\", \"linecolor\": \"white\", \"ticks\": \"\", \"title\": {\"standoff\": 15}, \"zerolinecolor\": \"white\", \"zerolinewidth\": 2}, \"yaxis\": {\"automargin\": true, \"gridcolor\": \"white\", \"linecolor\": \"white\", \"ticks\": \"\", \"title\": {\"standoff\": 15}, \"zerolinecolor\": \"white\", \"zerolinewidth\": 2}}}},                        {\"responsive\": true}                    ).then(function(){\n",
       "                            \n",
       "var gd = document.getElementById('18c3e878-71dd-4f44-a59a-3c06859bcaa2');\n",
       "var x = new MutationObserver(function (mutations, observer) {{\n",
       "        var display = window.getComputedStyle(gd).display;\n",
       "        if (!display || display === 'none') {{\n",
       "            console.log([gd, 'removed!']);\n",
       "            Plotly.purge(gd);\n",
       "            observer.disconnect();\n",
       "        }}\n",
       "}});\n",
       "\n",
       "// Listen for the removal of the full notebook cells\n",
       "var notebookContainer = gd.closest('#notebook-container');\n",
       "if (notebookContainer) {{\n",
       "    x.observe(notebookContainer, {childList: true});\n",
       "}}\n",
       "\n",
       "// Listen for the clearing of the current output cell\n",
       "var outputEl = gd.closest('.output');\n",
       "if (outputEl) {{\n",
       "    x.observe(outputEl, {childList: true});\n",
       "}}\n",
       "\n",
       "                        })                };                });            </script>        </div>"
      ]
     },
     "metadata": {},
     "output_type": "display_data"
    }
   ],
   "source": [
    "variables_val=[1,2,3]\n",
    "df_scatter_melt['Variables']=variables_val\n",
    "\n",
    "fig=go.Figure(data=go.Scatter(x=df_scatter_melt['Variables'],\n",
    "                             y=df_scatter_melt['value'],\n",
    "                             mode='markers',\n",
    "                             marker=dict(size=[40,60,80],\n",
    "                                        color=[0,1,2])))\n",
    "fig.show()"
   ]
  },
  {
   "cell_type": "code",
   "execution_count": 31,
   "metadata": {},
   "outputs": [],
   "source": [
    "# Hole dir die Impfdaten, schaue wie viele insgesamt geimpft wurden und wie viele noch fehlen\n",
    "#Rechne den durchschnittlichen täglichen Impfaufkommen aus\n",
    "#Trage diesen auf die noch zu impfende Population fort, um zu errechen, wie lange wir noch bei diesem Impftempo brauchen"
   ]
  },
  {
   "cell_type": "code",
   "execution_count": 32,
   "metadata": {},
   "outputs": [],
   "source": [
    "url='https://www.worldometers.info/world-population/germany-population/'\n",
    "html=requests.get(url).text"
   ]
  },
  {
   "cell_type": "code",
   "execution_count": 33,
   "metadata": {},
   "outputs": [
    {
     "data": {
      "text/plain": [
       "83971144"
      ]
     },
     "execution_count": 33,
     "metadata": {},
     "output_type": "execute_result"
    }
   ],
   "source": [
    "reg=r'\\d{2}\\,\\d{3}\\,\\d{3}'\n",
    "text=0\n",
    "soup=BeautifulSoup(html,'html.parser')\n",
    "for i in soup.find_all(attrs={'class':'col-md-8 country-pop-description'}):\n",
    "    text=i.find_all('li')[0].text.split('as')[0]\n",
    "  \n",
    "pop_germ=re.findall(reg,str(text))\n",
    "pop_string=0\n",
    "for i in pop_germ:\n",
    "    pop_string=int(i.replace(',',''))\n",
    "pop_germ=pop_string\n",
    "pop_germ"
   ]
  },
  {
   "cell_type": "code",
   "execution_count": 34,
   "metadata": {},
   "outputs": [
    {
     "data": {
      "image/png": "[encoded data removed]",
      "text/plain": [
       "<Figure size 360x360 with 1 Axes>"
      ]
     },
     "metadata": {
      "needs_background": "light"
     },
     "output_type": "display_data"
    },
    {
     "data": {
      "image/png": "[encoded data removed]",
      "text/plain": [
       "<Figure size 360x360 with 1 Axes>"
      ]
     },
     "metadata": {
      "needs_background": "light"
     },
     "output_type": "display_data"
    }
   ],
   "source": [
    "df_pop=df_scatter\n",
    "df_pop['Population']=pop_germ\n",
    "sns.catplot(kind='bar',data=df_pop[['TotalVac','TotalInfec','TotalDeaths']])\n",
    "sns.catplot(kind='bar',data=df_pop[['TotalVac','TotalInfec','TotalDeaths','Population']])\n",
    "f_pop=pd.melt(frame=df_pop,value_vars=['TotalVac','TotalInfec','TotalDeaths','Population'])\n",
    "\n"
   ]
  },
  {
   "cell_type": "code",
   "execution_count": 35,
   "metadata": {},
   "outputs": [
    {
     "data": {
      "text/html": [
       "<div>\n",
       "<style scoped>\n",
       "    .dataframe tbody tr th:only-of-type {\n",
       "        vertical-align: middle;\n",
       "    }\n",
       "\n",
       "    .dataframe tbody tr th {\n",
       "        vertical-align: top;\n",
       "    }\n",
       "\n",
       "    .dataframe thead th {\n",
       "        text-align: right;\n",
       "    }\n",
       "</style>\n",
       "<table border=\"1\" class=\"dataframe\">\n",
       "  <thead>\n",
       "    <tr style=\"text-align: right;\">\n",
       "      <th></th>\n",
       "      <th>variable</th>\n",
       "      <th>value</th>\n",
       "    </tr>\n",
       "  </thead>\n",
       "  <tbody>\n",
       "    <tr>\n",
       "      <th>0</th>\n",
       "      <td>TotalVac</td>\n",
       "      <td>8447309.0</td>\n",
       "    </tr>\n",
       "    <tr>\n",
       "      <th>1</th>\n",
       "      <td>TotalInfec</td>\n",
       "      <td>2482141.0</td>\n",
       "    </tr>\n",
       "    <tr>\n",
       "      <th>2</th>\n",
       "      <td>TotalDeaths</td>\n",
       "      <td>71504.0</td>\n",
       "    </tr>\n",
       "    <tr>\n",
       "      <th>3</th>\n",
       "      <td>Population</td>\n",
       "      <td>83971144.0</td>\n",
       "    </tr>\n",
       "  </tbody>\n",
       "</table>\n",
       "</div>"
      ],
      "text/plain": [
       "      variable       value\n",
       "0     TotalVac   8447309.0\n",
       "1   TotalInfec   2482141.0\n",
       "2  TotalDeaths     71504.0\n",
       "3   Population  83971144.0"
      ]
     },
     "execution_count": 35,
     "metadata": {},
     "output_type": "execute_result"
    }
   ],
   "source": [
    "f_pop"
   ]
  },
  {
   "cell_type": "code",
   "execution_count": 36,
   "metadata": {},
   "outputs": [
    {
     "data": {
      "text/plain": [
       "114152.82432432432"
      ]
     },
     "execution_count": 36,
     "metadata": {},
     "output_type": "execute_result"
    }
   ],
   "source": [
    "sum(vac['TotalVaccanations'])\n",
    "np.mean(vac['TotalVaccanations'])\n"
   ]
  },
  {
   "cell_type": "code",
   "execution_count": 37,
   "metadata": {},
   "outputs": [],
   "source": [
    "scatter_vac=vac['TotalVaccanations'].reset_index(drop=True)"
   ]
  }
 ],
 "metadata": {
  "kernelspec": {
   "display_name": "Python 3",
   "language": "python",
   "name": "python3"
  },
  "language_info": {
   "codemirror_mode": {
    "name": "ipython",
    "version": 3
   },
   "file_extension": ".py",
   "mimetype": "text/x-python",
   "name": "python",
   "nbconvert_exporter": "python",
   "pygments_lexer": "ipython3",
   "version": "3.8.5"
  }
 },
 "nbformat": 4,
 "nbformat_minor": 4
}
